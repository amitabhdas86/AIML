{
  "nbformat": 4,
  "nbformat_minor": 0,
  "metadata": {
    "colab": {
      "name": "Experiment_1.ipynb",
      "version": "0.3.2",
      "provenance": [],
      "collapsed_sections": [],
      "include_colab_link": true
    },
    "kernelspec": {
      "name": "python3",
      "display_name": "Python 3"
    },
    "accelerator": "GPU"
  },
  "cells": [
    {
      "cell_type": "markdown",
      "metadata": {
        "id": "view-in-github",
        "colab_type": "text"
      },
      "source": [
        "<a href=\"https://colab.research.google.com/github/amitabhdas86/AIML/blob/master/Regularization-Pruning-Batchnorm.ipynb\" target=\"_parent\"><img src=\"https://colab.research.google.com/assets/colab-badge.svg\" alt=\"Open In Colab\"/></a>"
      ]
    },
    {
      "metadata": {
        "id": "Nha6plg2TnmQ",
        "colab_type": "text"
      },
      "cell_type": "markdown",
      "source": [
        "# Advanced Certification in AIML\n",
        "## A Program by IIIT-H and TalentSprint"
      ]
    },
    {
      "metadata": {
        "id": "zNI74RCVjtKp",
        "colab_type": "text"
      },
      "cell_type": "markdown",
      "source": [
        "The objective of this experiment is to understand regularization."
      ]
    },
    {
      "metadata": {
        "id": "2w6zsNW-TnmR",
        "colab_type": "text"
      },
      "cell_type": "markdown",
      "source": [
        "While our loss function allows us to determine how well (or poorly) our set of parameters (i.e., weight matrix, and bias vector) are performing on a given classification task, the loss function itself does not take into account how the weight matrix “looks”. This brings us to the following questions.  How do we go about choosing a set of parameters that will help ensure our model generalize well? Or at the very least, lessen the affects of overfitting?\n",
        "\n",
        "The answer is <b>regularization.</b>\n",
        "\n",
        "This notebook is divided into two parts. In the first part we will observe the behaviour of the weight space after adding adding a regularization term while in the second part, we will use some property of the learnt weight space to remove redundant connections.\n",
        "\n"
      ]
    },
    {
      "metadata": {
        "id": "TnMTIOkUjtKr",
        "colab_type": "text"
      },
      "cell_type": "markdown",
      "source": [
        "#### Keywords\n",
        "\n",
        "* L1 Regularization\n",
        "* Pruning\n",
        "* Batchnorm"
      ]
    },
    {
      "metadata": {
        "id": "muK2kzBSjtKs",
        "colab_type": "text"
      },
      "cell_type": "markdown",
      "source": [
        "#### Expected time to complete the experiment is : 90min"
      ]
    },
    {
      "metadata": {
        "id": "0E9wfKzVkix_",
        "colab_type": "text"
      },
      "cell_type": "markdown",
      "source": [
        "### Setup Steps"
      ]
    },
    {
      "metadata": {
        "id": "MEtFGo5hlGI8",
        "colab_type": "code",
        "colab": {}
      },
      "cell_type": "code",
      "source": [
        "#@title Please enter your registration id to start: (e.g. P181900101) { run: \"auto\", display-mode: \"form\" }\n",
        "Id = \"P19A06E_test\" #@param {type:\"string\"}\n"
      ],
      "execution_count": 0,
      "outputs": []
    },
    {
      "metadata": {
        "id": "i8IUb8hslHwr",
        "colab_type": "code",
        "colab": {}
      },
      "cell_type": "code",
      "source": [
        "#@title Please enter your password (normally your phone number) to continue: { run: \"auto\", display-mode: \"form\" }\n",
        "password = \"981234567\" #@param {type:\"string\"}\n"
      ],
      "execution_count": 0,
      "outputs": []
    },
    {
      "metadata": {
        "id": "ppmfhaAbj4-e",
        "colab_type": "code",
        "cellView": "form",
        "outputId": "3b8474a6-02bf-4c3c-e740-0b3dad560683",
        "colab": {
          "base_uri": "https://localhost:8080/",
          "height": 34
        }
      },
      "cell_type": "code",
      "source": [
        "#@title Run this cell to complete the setup for this Notebook\n",
        "\n",
        "from IPython import get_ipython\n",
        "ipython = get_ipython()\n",
        "  \n",
        "notebook=\"BLR_M3W13_SAT_EXP_1\" #name of the notebook\n",
        "\n",
        "def setup():\n",
        "#  ipython.magic(\"sx pip3 install torch\")\n",
        "    ipython.magic(\"sx pip3 install torch\")\n",
        "    ipython.magic(\"sx pip3 install torchvision\")\n",
        "    print (\"Setup completed successfully\")\n",
        "    return\n",
        "\n",
        "def submit_notebook():\n",
        "    \n",
        "    ipython.magic(\"notebook -e \"+ notebook + \".ipynb\")\n",
        "    \n",
        "    import requests, json, base64, datetime\n",
        "\n",
        "    url = \"https://dashboard.talentsprint.com/xp/app/save_notebook_attempts\"\n",
        "    if not submission_id:\n",
        "      data = {\"id\" : getId(), \"notebook\" : notebook, \"mobile\" : getPassword()}\n",
        "      r = requests.post(url, data = data)\n",
        "      r = json.loads(r.text)\n",
        "\n",
        "      if r[\"status\"] == \"Success\":\n",
        "          return r[\"record_id\"]\n",
        "      elif \"err\" in r:        \n",
        "        print(r[\"err\"])\n",
        "        return None        \n",
        "      else:\n",
        "        print (\"Something is wrong, the notebook will not be submitted for grading\")\n",
        "        return None\n",
        "\n",
        "    elif getComplexity() and getAdditional() and getConcepts():\n",
        "      f = open(notebook + \".ipynb\", \"rb\")\n",
        "      file_hash = base64.b64encode(f.read())\n",
        "\n",
        "      data = {\"complexity\" : Complexity, \"additional\" :Additional, \n",
        "              \"concepts\" : Concepts, \"record_id\" : submission_id, \n",
        "              \"id\" : Id, \"file_hash\" : file_hash, \"notebook\" : notebook}\n",
        "\n",
        "      r = requests.post(url, data = data)\n",
        "      print(\"Your submission is successful.\")\n",
        "      print(\"Ref Id:\", submission_id)\n",
        "      print(\"Date of submission: \", datetime.datetime.now().date().strftime(\"%d %b %Y\"))\n",
        "      print(\"Time of submission: \", datetime.datetime.now().time().strftime(\"%H:%M:%S\"))\n",
        "      print(\"View your submissions: https://iiith-aiml.talentsprint.com/notebook_submissions\")\n",
        "      print(\"For any queries/discrepancies, please connect with mentors through the chat icon in LMS dashboard.\")\n",
        "      return submission_id\n",
        "    else: submission_id\n",
        "    \n",
        "\n",
        "def getAdditional():\n",
        "  try:\n",
        "    if Additional: return Additional      \n",
        "    else: raise NameError('')\n",
        "  except NameError:\n",
        "    print (\"Please answer Additional Question\")\n",
        "    return None\n",
        "\n",
        "def getComplexity():\n",
        "  try:\n",
        "    return Complexity\n",
        "  except NameError:\n",
        "    print (\"Please answer Complexity Question\")\n",
        "    return None\n",
        "  \n",
        "def getConcepts():\n",
        "  try:\n",
        "    return Concepts\n",
        "  except NameError:\n",
        "    print (\"Please answer Concepts Question\")\n",
        "    return None\n",
        "\n",
        "def getId():\n",
        "  try: \n",
        "    return Id if Id else None\n",
        "  except NameError:\n",
        "    return None\n",
        "\n",
        "def getPassword():\n",
        "  try:\n",
        "    return password if password else None\n",
        "  except NameError:\n",
        "    return None\n",
        "\n",
        "submission_id = None\n",
        "### Setup \n",
        "if getPassword() and getId():\n",
        "  submission_id = submit_notebook()\n",
        "  if submission_id:\n",
        "    setup()\n",
        "  \n",
        "else:\n",
        "  print (\"Please complete Id and Password cells before running setup\")\n",
        "\n"
      ],
      "execution_count": 0,
      "outputs": [
        {
          "output_type": "stream",
          "text": [
            "Setup completed successfully\n"
          ],
          "name": "stdout"
        }
      ]
    },
    {
      "metadata": {
        "id": "zF7RicJSjtKw",
        "colab_type": "text"
      },
      "cell_type": "markdown",
      "source": [
        "Let us begin by our regular import statements."
      ]
    },
    {
      "metadata": {
        "id": "LhxAfWj7TnmS",
        "colab_type": "code",
        "colab": {}
      },
      "cell_type": "code",
      "source": [
        "import numpy as np\n",
        "import torch \n",
        "import torchvision\n",
        "import torch.nn as nn\n",
        "import torchvision.datasets as dsets\n",
        "import torchvision.transforms as transforms\n",
        "from torch.autograd import Variable\n",
        "%matplotlib inline\n",
        "import matplotlib.pyplot as plt"
      ],
      "execution_count": 0,
      "outputs": []
    },
    {
      "metadata": {
        "id": "8A70o515TnmV",
        "colab_type": "text"
      },
      "cell_type": "markdown",
      "source": [
        "### Hyperparameters to be used"
      ]
    },
    {
      "metadata": {
        "id": "SGlfUnYqTnmV",
        "colab_type": "code",
        "colab": {}
      },
      "cell_type": "code",
      "source": [
        "num_epochs = 5\n",
        "batch_size = 100\n",
        "learning_rate = 0.001\n",
        "use_reg = False\n",
        "device = torch.device(\"cuda:0\" if torch.cuda.is_available() else \"cpu\")"
      ],
      "execution_count": 0,
      "outputs": []
    },
    {
      "metadata": {
        "id": "mYUS_CLxTnmY",
        "colab_type": "text"
      },
      "cell_type": "markdown",
      "source": [
        "### Downloading the MNIST Dataset"
      ]
    },
    {
      "metadata": {
        "id": "dp8uPwvTTnmY",
        "colab_type": "code",
        "outputId": "c89917eb-71d0-4f37-fe80-55db1a5b3a0e",
        "colab": {
          "base_uri": "https://localhost:8080/",
          "height": 121
        }
      },
      "cell_type": "code",
      "source": [
        "train_dataset = dsets.MNIST(root='../data/',\n",
        "                            train=True, \n",
        "                            transform=transforms.ToTensor(),\n",
        "                            download=True)\n",
        "\n",
        "test_dataset = dsets.MNIST(root='../data',\n",
        "                           train=False, \n",
        "                           transform=transforms.ToTensor())"
      ],
      "execution_count": 0,
      "outputs": [
        {
          "output_type": "stream",
          "text": [
            "Downloading http://yann.lecun.com/exdb/mnist/train-images-idx3-ubyte.gz\n",
            "Downloading http://yann.lecun.com/exdb/mnist/train-labels-idx1-ubyte.gz\n",
            "Downloading http://yann.lecun.com/exdb/mnist/t10k-images-idx3-ubyte.gz\n",
            "Downloading http://yann.lecun.com/exdb/mnist/t10k-labels-idx1-ubyte.gz\n",
            "Processing...\n",
            "Done!\n"
          ],
          "name": "stdout"
        }
      ]
    },
    {
      "metadata": {
        "id": "ZNnphTJsTnmc",
        "colab_type": "text"
      },
      "cell_type": "markdown",
      "source": [
        "### Dataloader"
      ]
    },
    {
      "metadata": {
        "id": "MKzALRgfTnmd",
        "colab_type": "code",
        "colab": {}
      },
      "cell_type": "code",
      "source": [
        "train_loader = torch.utils.data.DataLoader(dataset=train_dataset,\n",
        "                                           batch_size=batch_size, \n",
        "                                           shuffle=True)\n",
        "\n",
        "test_loader = torch.utils.data.DataLoader(dataset=test_dataset,\n",
        "                                          batch_size=batch_size, \n",
        "                                          shuffle=False)"
      ],
      "execution_count": 0,
      "outputs": []
    },
    {
      "metadata": {
        "id": "kxFubQ6OTnme",
        "colab_type": "text"
      },
      "cell_type": "markdown",
      "source": [
        "### Defining the network"
      ]
    },
    {
      "metadata": {
        "id": "dULykqibTnmf",
        "colab_type": "code",
        "colab": {}
      },
      "cell_type": "code",
      "source": [
        "class Net(nn.Module):\n",
        "    def __init__(self):\n",
        "        super(Net, self).__init__()\n",
        "        self.layer1 = nn.Sequential(\n",
        "            nn.Conv2d(1, 16, kernel_size=5, padding=2),\n",
        "            nn.BatchNorm2d(16),\n",
        "            nn.ReLU())\n",
        "        self.layer2 = nn.Sequential(\n",
        "            nn.Conv2d(16, 16, kernel_size=3, padding=1),\n",
        "            nn.BatchNorm2d(16),\n",
        "            nn.ReLU(),\n",
        "            nn.MaxPool2d(2))\n",
        "        self.layer3 = nn.Sequential(\n",
        "            nn.Conv2d(16, 32, kernel_size=3, padding=1),\n",
        "            nn.BatchNorm2d(32),\n",
        "            nn.ReLU(),\n",
        "            nn.MaxPool2d(2))\n",
        "        self.fc1 = nn.Linear(7*7*32, 300)\n",
        "        self.fc2 = nn.Linear(300, 10)\n",
        "        \n",
        "    def forward(self, x):\n",
        "        out = self.layer1(x)\n",
        "        out = self.layer2(out)\n",
        "        out = self.layer3(out)\n",
        "        out = out.view(out.size(0), -1)\n",
        "        out = self.fc1(out)\n",
        "        out = self.fc2(out)\n",
        "        return out"
      ],
      "execution_count": 0,
      "outputs": []
    },
    {
      "metadata": {
        "id": "bfLjHmz7Tnmh",
        "colab_type": "text"
      },
      "cell_type": "markdown",
      "source": [
        "<b>The below function is called to reinitialize the weights of the network and define the required loss criterion and the optimizer.</b> "
      ]
    },
    {
      "metadata": {
        "id": "-khA9HNuTnmh",
        "colab_type": "code",
        "colab": {}
      },
      "cell_type": "code",
      "source": [
        "def reset_model():\n",
        "    net = Net()\n",
        "    net = net.to(device)\n",
        "\n",
        "    # Loss and Optimizer\n",
        "    criterion = nn.CrossEntropyLoss()\n",
        "    optimizer = torch.optim.Adam(net.parameters(), lr=learning_rate)\n",
        "    return net,criterion,optimizer"
      ],
      "execution_count": 0,
      "outputs": []
    },
    {
      "metadata": {
        "id": "a4d3zIBxTnmk",
        "colab_type": "text"
      },
      "cell_type": "markdown",
      "source": [
        "### L1 Regularization\n",
        "\n",
        "Here, we define a L1 Regularizer and add it to our loss function. The L1 Regularization term basically adds a penalty, equivalent to the absolute value of the magnitude of the weights. This ensures that the magnitude of the weights do not become too high.\n",
        "\n",
        "We have seen in the previous lectures that adding the L1 regularizer ensures sparsity. This is important becuase our ultimate aim is to prune connections from our network. That would mean we should try to make as many weights extremely close to 0 as possible. Thus, adding this penalty term ensures sparsity. The L1 Regularizer is also known as Lass Regression and it can be defined as follows:\n",
        "\n",
        "$$P=\\lambda*\\sum_{i=1}^{n}|\\theta_{i}-0|$$"
      ]
    },
    {
      "metadata": {
        "id": "CN5np0bMTnml",
        "colab_type": "code",
        "colab": {}
      },
      "cell_type": "code",
      "source": [
        "def l1_regularizer(net, loss, beta):\n",
        "    l1_crit = nn.L1Loss(size_average=False)\n",
        "    reg_loss = 0\n",
        "    for param in net.parameters():\n",
        "        target = (torch.FloatTensor(param.size()).zero_()).to(device)\n",
        "        reg_loss += l1_crit(param, target)\n",
        "        \n",
        "    loss += beta * reg_loss\n",
        "    return loss"
      ],
      "execution_count": 0,
      "outputs": []
    },
    {
      "metadata": {
        "id": "_zXI813PTnmn",
        "colab_type": "text"
      },
      "cell_type": "markdown",
      "source": [
        "### Initializing the model"
      ]
    },
    {
      "metadata": {
        "id": "puVKJQjnTnmo",
        "colab_type": "code",
        "colab": {}
      },
      "cell_type": "code",
      "source": [
        "net, criterion, optimizer = reset_model()"
      ],
      "execution_count": 0,
      "outputs": []
    },
    {
      "metadata": {
        "id": "X6D4awmdTnmr",
        "colab_type": "text"
      },
      "cell_type": "markdown",
      "source": [
        "### Defining the training function"
      ]
    },
    {
      "metadata": {
        "id": "rqu5iRI4Tnmr",
        "colab_type": "code",
        "colab": {}
      },
      "cell_type": "code",
      "source": [
        "# Train the Model\n",
        "\n",
        "def training(net, reset = True):\n",
        "    if reset == True:\n",
        "        net, criterion, optimizer = reset_model()\n",
        "    else:\n",
        "        criterion = nn.CrossEntropyLoss()\n",
        "        optimizer = torch.optim.Adam(net.parameters(), lr=learning_rate)\n",
        "    \n",
        "    net.train()\n",
        "    for epoch in range(num_epochs):\n",
        "        total_loss = 0\n",
        "        accuracy = []\n",
        "        for i, (images, labels) in enumerate(train_loader):\n",
        "            images = images.to(device)\n",
        "            labels = labels.to(device)\n",
        "            temp_labels = labels\n",
        "            \n",
        "\n",
        "            # Forward + Backward + Optimize\n",
        "            optimizer.zero_grad()\n",
        "            outputs = net(images)\n",
        "            loss = criterion(outputs, labels)\n",
        "\n",
        "            if use_reg == True :\n",
        "                loss = l1_regularizer(net,loss,beta=0.001)\n",
        "\n",
        "            loss.backward()\n",
        "            optimizer.step()\n",
        "\n",
        "            total_loss += loss.item()\n",
        "            _, predicted = torch.max(outputs.data, 1)\n",
        "            correct = (predicted == temp_labels).sum().item()\n",
        "            accuracy.append(correct/float(batch_size))\n",
        "\n",
        "        print('Epoch: %d, Loss: %.4f, Accuracy: %.4f' %(epoch+1,total_loss, (sum(accuracy)/float(len(accuracy)))))\n",
        "    \n",
        "    return net"
      ],
      "execution_count": 0,
      "outputs": []
    },
    {
      "metadata": {
        "id": "OAPJXTA4Tnmt",
        "colab_type": "text"
      },
      "cell_type": "markdown",
      "source": [
        "### Defining the testing function"
      ]
    },
    {
      "metadata": {
        "id": "1M-YBR80Tnmu",
        "colab_type": "code",
        "colab": {}
      },
      "cell_type": "code",
      "source": [
        "# Test the Model\n",
        "def testing(net):\n",
        "    net.eval() \n",
        "    correct = 0\n",
        "    total = 0\n",
        "    for images, labels in test_loader:\n",
        "        images = images.to(device)\n",
        "        labels = labels.to(device)\n",
        "        outputs = net(images)\n",
        "        _, predicted = torch.max(outputs.data, 1)\n",
        "        total += labels.size(0)\n",
        "        correct += (predicted == labels).sum().item()\n",
        "\n",
        "    print('Test Accuracy of the network on the 10000 test images: %.2f %%' % (100.0 * correct / total))"
      ],
      "execution_count": 0,
      "outputs": []
    },
    {
      "metadata": {
        "id": "-HRbNb4NTnmx",
        "colab_type": "text"
      },
      "cell_type": "markdown",
      "source": [
        "### Training and testing the network"
      ]
    },
    {
      "metadata": {
        "id": "YSbJvxVXTnmz",
        "colab_type": "code",
        "outputId": "4abb41e2-b7cf-4efc-cba7-ba5d30fd986f",
        "colab": {
          "base_uri": "https://localhost:8080/",
          "height": 121
        }
      },
      "cell_type": "code",
      "source": [
        "reset = True\n",
        "net = training(net, reset)\n",
        "testing(net)"
      ],
      "execution_count": 0,
      "outputs": [
        {
          "output_type": "stream",
          "text": [
            "Epoch: 1, Loss: 80.6895, Accuracy: 0.9587\n",
            "Epoch: 2, Loss: 31.7506, Accuracy: 0.9834\n",
            "Epoch: 3, Loss: 23.7421, Accuracy: 0.9873\n",
            "Epoch: 4, Loss: 19.6762, Accuracy: 0.9896\n",
            "Epoch: 5, Loss: 17.9095, Accuracy: 0.9904\n",
            "Test Accuracy of the network on the 10000 test images: 99.04 %\n"
          ],
          "name": "stdout"
        }
      ]
    },
    {
      "metadata": {
        "id": "_lPLTqUOTnm3",
        "colab_type": "text"
      },
      "cell_type": "markdown",
      "source": [
        "### Function for plotting the weight distribution\n",
        "\n",
        "We want to plot the weights learnt during training and we define the following function to do so. It is important to note that in order ro achieve smoothness in the behaviour of the plot we use 256 clusters here where the nearest weight values are rounded to. Feel free to experiment with defining lesser number of clusters for the weight distribution approximation. However, the plot may not be as smooth. \n",
        "\n",
        "We plot the cluster values in the x-axis and the frequency of the weights in the y-axis."
      ]
    },
    {
      "metadata": {
        "id": "6p7eVeOGTnm3",
        "colab_type": "code",
        "colab": {}
      },
      "cell_type": "code",
      "source": [
        "def weightdistribution(weights):\n",
        "    maxim= np.amax(weights)\n",
        "    print(\"Maximum value of learnt weights: \" + str(maxim))\n",
        "    \n",
        "    minim= np.amin(weights)\n",
        "    print(\"Minimum value of learnt weights: \" + str(minim))\n",
        "    \n",
        "    step= (maxim-minim)/255\n",
        "    freq= np.zeros(256)\n",
        "    steps=[]\n",
        "\n",
        "    for i in range(0,256):\n",
        "        steps.append(minim)\n",
        "        minim+=step\n",
        "    \n",
        "    m = weights.shape[0]\n",
        "    \n",
        "    for i in range(0,m):\n",
        "        e= weights[i]\n",
        "        dist= (steps-e)**2\n",
        "        freq[np.argmin(dist)]+=1\n",
        "    \n",
        "        \n",
        "    plt.plot(steps,list(freq))\n",
        "    plt.show()"
      ],
      "execution_count": 0,
      "outputs": []
    },
    {
      "metadata": {
        "id": "TxY_VCALTnm6",
        "colab_type": "code",
        "outputId": "13f3a535-4d10-464a-a756-ac91ac74510a",
        "colab": {
          "base_uri": "https://localhost:8080/",
          "height": 866
        }
      },
      "cell_type": "code",
      "source": [
        "weightdistribution(net.state_dict()['layer2.0.weight'].cpu().numpy().flatten())\n",
        "weightdistribution(net.state_dict()['fc1.weight'].cpu().numpy().flatten())\n",
        "weightdistribution(net.state_dict()['fc2.weight'].cpu().numpy().flatten())"
      ],
      "execution_count": 0,
      "outputs": [
        {
          "output_type": "stream",
          "text": [
            "Maximum value of learnt weights: 0.25336814\n",
            "Minimum value of learnt weights: -0.25643566\n"
          ],
          "name": "stdout"
        },
        {
          "output_type": "display_data",
          "data": {
            "image/png": "[encoded data removed]",
            "text/plain": [
              "<Figure size 432x288 with 1 Axes>"
            ]
          },
          "metadata": {
            "tags": []
          }
        },
        {
          "output_type": "stream",
          "text": [
            "Maximum value of learnt weights: 0.28812152\n",
            "Minimum value of learnt weights: -0.3027767\n"
          ],
          "name": "stdout"
        },
        {
          "output_type": "display_data",
          "data": {
            "image/png": "[encoded data removed]",
            "text/plain": [
              "<Figure size 432x288 with 1 Axes>"
            ]
          },
          "metadata": {
            "tags": []
          }
        },
        {
          "output_type": "stream",
          "text": [
            "Maximum value of learnt weights: 0.14015682\n",
            "Minimum value of learnt weights: -0.16160929\n"
          ],
          "name": "stdout"
        },
        {
          "output_type": "display_data",
          "data": {
            "image/png": "[encoded data removed]",
            "text/plain": [
              "<Figure size 432x288 with 1 Axes>"
            ]
          },
          "metadata": {
            "tags": []
          }
        }
      ]
    },
    {
      "metadata": {
        "id": "WzseaQfLTnm8",
        "colab_type": "text"
      },
      "cell_type": "markdown",
      "source": [
        "### Defining the pruning function\n",
        "\n",
        "We use a threshold based criteria to remove certain connections in the networks which fall within a threshold value. Hence, we define a function which takes the network as input and a vlaue for threshold and forces those connections to be 0 which fall with the threshold given by the following equation.\n",
        "\n",
        "$$\n",
        "\\begin{equation}\n",
        " W_{i} = \n",
        " \\begin{cases} \n",
        "      W_{i} & W_{i} < -\\theta \\\\\n",
        "      0 & -\\theta\\leq W_{i}\\leq \\theta \\\\\n",
        "      W_{i} & \\theta < W_{i} \n",
        "  \\end{cases}\n",
        "\\end{equation}\n",
        "$$\n",
        "\n",
        "We prune both the weights and biases of Convolution layers, Fully Connected layers and the Batch Normalization layers"
      ]
    },
    {
      "metadata": {
        "id": "ZgW4yUPBTnm8",
        "colab_type": "code",
        "colab": {}
      },
      "cell_type": "code",
      "source": [
        "def prune_weight(net, threshold):\n",
        "    \n",
        "    for m in net.modules():\n",
        "        if isinstance(m,nn.Conv2d) or isinstance(m,nn.BatchNorm2d) or isinstance(m,nn.Linear):\n",
        "\n",
        "            temp_weight = m.weight.data.cpu().numpy()\n",
        "            dims = temp_weight.shape\n",
        "            print('WEIGHT ',dims)\n",
        "            print(\"Before pruning------->\")\n",
        "            print(np.count_nonzero(temp_weight))\n",
        "\n",
        "            temp_weight = temp_weight.flatten()\n",
        "\n",
        "            [x1,x2]=((np.where(np.all([[(-1*threshold) < (temp_weight)] , [(temp_weight) < threshold]],axis=0))))\n",
        "            temp_weight[x2] = 0\n",
        "            temp_weight = np.reshape(temp_weight,dims)\n",
        "            print(\"After pruning------->\")\n",
        "            print(np.count_nonzero(temp_weight))\n",
        "            print('-------------------------------------------------------------------------------')\n",
        "            m.weight.data = (torch.FloatTensor(temp_weight).cuda())\n",
        "\n",
        "            temp_bias = m.bias.data.cpu().numpy()\n",
        "            dims = temp_bias.shape\n",
        "            print('BIAS ',dims)\n",
        "            print(\"Before pruning------->\")\n",
        "            print(np.count_nonzero(temp_bias))\n",
        "\n",
        "            temp_bias = temp_bias.flatten()\n",
        "\n",
        "            [x1,x2]=((np.where(np.all([[(-1*threshold) < (temp_bias)] , [(temp_bias) < threshold]],axis=0))))\n",
        "            temp_bias[x2] = 0\n",
        "            temp_bias = np.reshape(temp_bias,dims)\n",
        "            print(\"After pruning------->\")\n",
        "            print(np.count_nonzero(temp_bias))\n",
        "            print('-------------------------------------------------------------------------------')\n",
        "            m.bias.data = (torch.FloatTensor(temp_bias).cuda())\n",
        "\n",
        "# for m in net.modules():\n",
        "#     if isinstance(m,nn.Conv2d):\n",
        "#         print m.bias.data\n",
        "  "
      ],
      "execution_count": 0,
      "outputs": []
    },
    {
      "metadata": {
        "id": "4SNHjrWWTnm-",
        "colab_type": "text"
      },
      "cell_type": "markdown",
      "source": [
        "Here, we check how many connetions have been pruned"
      ]
    },
    {
      "metadata": {
        "id": "zSqWfhNuTnnA",
        "colab_type": "code",
        "outputId": "e8383373-f807-4bd3-bdb2-1825b419fd18",
        "colab": {
          "base_uri": "https://localhost:8080/",
          "height": 1676
        }
      },
      "cell_type": "code",
      "source": [
        "threshold = 0.01\n",
        "prune_weight(net,threshold)"
      ],
      "execution_count": 0,
      "outputs": [
        {
          "output_type": "stream",
          "text": [
            "WEIGHT  (16, 1, 5, 5)\n",
            "Before pruning------->\n",
            "400\n",
            "After pruning------->\n",
            "384\n",
            "-------------------------------------------------------------------------------\n",
            "BIAS  (16,)\n",
            "Before pruning------->\n",
            "16\n",
            "After pruning------->\n",
            "16\n",
            "-------------------------------------------------------------------------------\n",
            "WEIGHT  (16,)\n",
            "Before pruning------->\n",
            "16\n",
            "After pruning------->\n",
            "16\n",
            "-------------------------------------------------------------------------------\n",
            "BIAS  (16,)\n",
            "Before pruning------->\n",
            "16\n",
            "After pruning------->\n",
            "14\n",
            "-------------------------------------------------------------------------------\n",
            "WEIGHT  (16, 16, 3, 3)\n",
            "Before pruning------->\n",
            "2304\n",
            "After pruning------->\n",
            "2071\n",
            "-------------------------------------------------------------------------------\n",
            "BIAS  (16,)\n",
            "Before pruning------->\n",
            "16\n",
            "After pruning------->\n",
            "12\n",
            "-------------------------------------------------------------------------------\n",
            "WEIGHT  (16,)\n",
            "Before pruning------->\n",
            "16\n",
            "After pruning------->\n",
            "16\n",
            "-------------------------------------------------------------------------------\n",
            "BIAS  (16,)\n",
            "Before pruning------->\n",
            "16\n",
            "After pruning------->\n",
            "15\n",
            "-------------------------------------------------------------------------------\n",
            "WEIGHT  (32, 16, 3, 3)\n",
            "Before pruning------->\n",
            "4608\n",
            "After pruning------->\n",
            "4124\n",
            "-------------------------------------------------------------------------------\n",
            "BIAS  (32,)\n",
            "Before pruning------->\n",
            "32\n",
            "After pruning------->\n",
            "26\n",
            "-------------------------------------------------------------------------------\n",
            "WEIGHT  (32,)\n",
            "Before pruning------->\n",
            "32\n",
            "After pruning------->\n",
            "32\n",
            "-------------------------------------------------------------------------------\n",
            "BIAS  (32,)\n",
            "Before pruning------->\n",
            "32\n",
            "After pruning------->\n",
            "32\n",
            "-------------------------------------------------------------------------------\n",
            "WEIGHT  (300, 1568)\n",
            "Before pruning------->\n",
            "470400\n",
            "After pruning------->\n",
            "362836\n",
            "-------------------------------------------------------------------------------\n",
            "BIAS  (300,)\n",
            "Before pruning------->\n",
            "300\n",
            "After pruning------->\n",
            "193\n",
            "-------------------------------------------------------------------------------\n",
            "WEIGHT  (10, 300)\n",
            "Before pruning------->\n",
            "3000\n",
            "After pruning------->\n",
            "2572\n",
            "-------------------------------------------------------------------------------\n",
            "BIAS  (10,)\n",
            "Before pruning------->\n",
            "10\n",
            "After pruning------->\n",
            "9\n",
            "-------------------------------------------------------------------------------\n"
          ],
          "name": "stdout"
        }
      ]
    },
    {
      "metadata": {
        "id": "KnT1VyvOTnnD",
        "colab_type": "text"
      },
      "cell_type": "markdown",
      "source": [
        "Training the network again using the regularizer. The loss is modified as \n",
        "\n",
        "$$\n",
        "loss = loss + regularized_loss\n",
        "$$"
      ]
    },
    {
      "metadata": {
        "id": "uCT6MKZITnnD",
        "colab_type": "code",
        "outputId": "0e2e8544-a969-4277-e694-84da7a094221",
        "colab": {
          "base_uri": "https://localhost:8080/",
          "height": 175
        }
      },
      "cell_type": "code",
      "source": [
        "reset = True\n",
        "use_reg = True\n",
        "net = training(net, reset)\n",
        "testing(net)"
      ],
      "execution_count": 0,
      "outputs": [
        {
          "output_type": "stream",
          "text": [
            "/usr/local/lib/python3.6/dist-packages/torch/nn/_reduction.py:49: UserWarning: size_average and reduce args will be deprecated, please use reduction='sum' instead.\n",
            "  warnings.warn(warning.format(ret))\n"
          ],
          "name": "stderr"
        },
        {
          "output_type": "stream",
          "text": [
            "Epoch: 1, Loss: 565.6652, Accuracy: 0.9539\n",
            "Epoch: 2, Loss: 229.3723, Accuracy: 0.9767\n",
            "Epoch: 3, Loss: 188.4295, Accuracy: 0.9796\n",
            "Epoch: 4, Loss: 173.2573, Accuracy: 0.9806\n",
            "Epoch: 5, Loss: 162.9925, Accuracy: 0.9818\n",
            "Test Accuracy of the network on the 10000 test images: 98.27 %\n"
          ],
          "name": "stdout"
        }
      ]
    },
    {
      "metadata": {
        "id": "B2Ica71fTnnH",
        "colab_type": "text"
      },
      "cell_type": "markdown",
      "source": [
        "<b>Visualizing the weight distributions with the regularized loss</b>"
      ]
    },
    {
      "metadata": {
        "id": "N8RVoDFgTnnH",
        "colab_type": "code",
        "outputId": "30312f7b-a511-4a42-fb5c-f83041df13e2",
        "colab": {
          "base_uri": "https://localhost:8080/",
          "height": 866
        }
      },
      "cell_type": "code",
      "source": [
        "weightdistribution(net.state_dict()['layer2.0.weight'].cpu().numpy().flatten())\n",
        "weightdistribution(net.state_dict()['fc1.weight'].cpu().numpy().flatten())\n",
        "weightdistribution(net.state_dict()['fc2.weight'].cpu().numpy().flatten())"
      ],
      "execution_count": 0,
      "outputs": [
        {
          "output_type": "stream",
          "text": [
            "Maximum value of learnt weights: 0.08963046\n",
            "Minimum value of learnt weights: -0.13265365\n"
          ],
          "name": "stdout"
        },
        {
          "output_type": "display_data",
          "data": {
            "image/png": "[encoded data removed]",
            "text/plain": [
              "<Figure size 432x288 with 1 Axes>"
            ]
          },
          "metadata": {
            "tags": []
          }
        },
        {
          "output_type": "stream",
          "text": [
            "Maximum value of learnt weights: 0.37521788\n",
            "Minimum value of learnt weights: -0.32434773\n"
          ],
          "name": "stdout"
        },
        {
          "output_type": "display_data",
          "data": {
            "image/png": "[encoded data removed]",
            "text/plain": [
              "<Figure size 432x288 with 1 Axes>"
            ]
          },
          "metadata": {
            "tags": []
          }
        },
        {
          "output_type": "stream",
          "text": [
            "Maximum value of learnt weights: 0.69521713\n",
            "Minimum value of learnt weights: -0.8204625\n"
          ],
          "name": "stdout"
        },
        {
          "output_type": "display_data",
          "data": {
            "image/png": "[encoded data removed]",
            "text/plain": [
              "<Figure size 432x288 with 1 Axes>"
            ]
          },
          "metadata": {
            "tags": []
          }
        }
      ]
    },
    {
      "metadata": {
        "id": "Lx0ZAH8jTnnJ",
        "colab_type": "text"
      },
      "cell_type": "markdown",
      "source": [
        "By using the L1 Regularizer, we see that we have forced the network to learn weights within a constrained subspace. Since more number of weights are closer to 0, it is evident that we will be able to make more weights 0 by using the same threshold as before. This, therefore ensures sparsity in every layer of the network.\n",
        "\n",
        "An interesting observation is that the netowrk tells us that it does not require biases for certain layers."
      ]
    },
    {
      "metadata": {
        "id": "S_w7Cpr8TnnK",
        "colab_type": "code",
        "outputId": "99a63fb5-bd28-485b-851e-813a38b0b285",
        "colab": {
          "base_uri": "https://localhost:8080/",
          "height": 1676
        }
      },
      "cell_type": "code",
      "source": [
        "threshold = 0.01\n",
        "prune_weight(net,threshold)"
      ],
      "execution_count": 0,
      "outputs": [
        {
          "output_type": "stream",
          "text": [
            "WEIGHT  (16, 1, 5, 5)\n",
            "Before pruning------->\n",
            "400\n",
            "After pruning------->\n",
            "161\n",
            "-------------------------------------------------------------------------------\n",
            "BIAS  (16,)\n",
            "Before pruning------->\n",
            "16\n",
            "After pruning------->\n",
            "0\n",
            "-------------------------------------------------------------------------------\n",
            "WEIGHT  (16,)\n",
            "Before pruning------->\n",
            "16\n",
            "After pruning------->\n",
            "12\n",
            "-------------------------------------------------------------------------------\n",
            "BIAS  (16,)\n",
            "Before pruning------->\n",
            "16\n",
            "After pruning------->\n",
            "8\n",
            "-------------------------------------------------------------------------------\n",
            "WEIGHT  (16, 16, 3, 3)\n",
            "Before pruning------->\n",
            "2304\n",
            "After pruning------->\n",
            "317\n",
            "-------------------------------------------------------------------------------\n",
            "BIAS  (16,)\n",
            "Before pruning------->\n",
            "16\n",
            "After pruning------->\n",
            "0\n",
            "-------------------------------------------------------------------------------\n",
            "WEIGHT  (16,)\n",
            "Before pruning------->\n",
            "16\n",
            "After pruning------->\n",
            "10\n",
            "-------------------------------------------------------------------------------\n",
            "BIAS  (16,)\n",
            "Before pruning------->\n",
            "16\n",
            "After pruning------->\n",
            "6\n",
            "-------------------------------------------------------------------------------\n",
            "WEIGHT  (32, 16, 3, 3)\n",
            "Before pruning------->\n",
            "4608\n",
            "After pruning------->\n",
            "280\n",
            "-------------------------------------------------------------------------------\n",
            "BIAS  (32,)\n",
            "Before pruning------->\n",
            "32\n",
            "After pruning------->\n",
            "0\n",
            "-------------------------------------------------------------------------------\n",
            "WEIGHT  (32,)\n",
            "Before pruning------->\n",
            "32\n",
            "After pruning------->\n",
            "15\n",
            "-------------------------------------------------------------------------------\n",
            "BIAS  (32,)\n",
            "Before pruning------->\n",
            "32\n",
            "After pruning------->\n",
            "1\n",
            "-------------------------------------------------------------------------------\n",
            "WEIGHT  (300, 1568)\n",
            "Before pruning------->\n",
            "470400\n",
            "After pruning------->\n",
            "697\n",
            "-------------------------------------------------------------------------------\n",
            "BIAS  (300,)\n",
            "Before pruning------->\n",
            "300\n",
            "After pruning------->\n",
            "0\n",
            "-------------------------------------------------------------------------------\n",
            "WEIGHT  (10, 300)\n",
            "Before pruning------->\n",
            "3000\n",
            "After pruning------->\n",
            "171\n",
            "-------------------------------------------------------------------------------\n",
            "BIAS  (10,)\n",
            "Before pruning------->\n",
            "10\n",
            "After pruning------->\n",
            "0\n",
            "-------------------------------------------------------------------------------\n"
          ],
          "name": "stdout"
        }
      ]
    },
    {
      "metadata": {
        "id": "xP6XK9hqTnnM",
        "colab_type": "text"
      },
      "cell_type": "markdown",
      "source": [
        "### References\n",
        "\n",
        "1. http://www.pyimagesearch.com/2016/09/19/understanding-regularization-for-image-classification-and-machine-learning/"
      ]
    },
    {
      "metadata": {
        "id": "3uwT1KbImhJ0",
        "colab_type": "text"
      },
      "cell_type": "markdown",
      "source": [
        "### Please answer the questions below to complete the experiment:\n",
        "\n",
        "\n"
      ]
    },
    {
      "metadata": {
        "id": "fCmqGnUSTnnM",
        "colab_type": "code",
        "colab": {}
      },
      "cell_type": "code",
      "source": [
        "#@title How was the experiment? { run: \"auto\", form-width: \"500px\", display-mode: \"form\" }\n",
        "Complexity = \"\" #@param [\"Too Simple, I am wasting time\", \"Good, But Not Challenging for me\", \"Good and Challenging me\", \"Was Tough, but I did it\", \"Too Difficult for me\"]\n"
      ],
      "execution_count": 0,
      "outputs": []
    },
    {
      "metadata": {
        "id": "eZRwpYuZmjXE",
        "colab_type": "code",
        "colab": {}
      },
      "cell_type": "code",
      "source": [
        "#@title If it was very easy, what more you would have liked to have been added? If it was very difficult, what would you have liked to have been removed? { run: \"auto\", display-mode: \"form\" }\n",
        "Additional = \"\" #@param {type:\"string\"}"
      ],
      "execution_count": 0,
      "outputs": []
    },
    {
      "metadata": {
        "id": "YJR-j6dmmokg",
        "colab_type": "code",
        "colab": {}
      },
      "cell_type": "code",
      "source": [
        "#@title Can you identify the concepts from the lecture which this experiment covered? { run: \"auto\", vertical-output: true, display-mode: \"form\" }\n",
        "Concepts = \"\" #@param [\"Yes\", \"No\"]"
      ],
      "execution_count": 0,
      "outputs": []
    },
    {
      "metadata": {
        "id": "Z2xNcdnzmq1E",
        "colab_type": "code",
        "cellView": "form",
        "colab": {}
      },
      "cell_type": "code",
      "source": [
        "#@title Run this cell to submit your notebook for grading { vertical-output: true }\n",
        "try:\n",
        "  if submission_id:\n",
        "      return_id = submit_notebook()\n",
        "      if return_id : submission_id =return_id\n",
        "  else:\n",
        "      print(\"Please complete the setup first.\")\n",
        "except NameError:\n",
        "  print (\"Please complete the setup first.\")"
      ],
      "execution_count": 0,
      "outputs": []
    },
    {
      "metadata": {
        "id": "2jkLNDOxjiLG",
        "colab_type": "code",
        "colab": {}
      },
      "cell_type": "code",
      "source": [
        ""
      ],
      "execution_count": 0,
      "outputs": []
    }
  ]
}