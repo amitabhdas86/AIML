{
  "nbformat": 4,
  "nbformat_minor": 0,
  "metadata": {
    "colab": {
      "name": "Experiment_1.ipynb",
      "version": "0.3.2",
      "provenance": [],
      "collapsed_sections": [],
      "include_colab_link": true
    },
    "kernelspec": {
      "name": "python3",
      "display_name": "Python 3"
    },
    "accelerator": "GPU"
  },
  "cells": [
    {
      "cell_type": "markdown",
      "metadata": {
        "id": "view-in-github",
        "colab_type": "text"
      },
      "source": [
        "<a href=\"https://colab.research.google.com/github/amitabhdas86/AIML/blob/master/RNN_Shakespear.ipynb\" target=\"_parent\"><img src=\"https://colab.research.google.com/assets/colab-badge.svg\" alt=\"Open In Colab\"/></a>"
      ]
    },
    {
      "metadata": {
        "id": "t9k5heqzZ6CP",
        "colab_type": "text"
      },
      "cell_type": "markdown",
      "source": [
        "\n",
        "# Advanced Certification in AIML\n",
        "## A Program by IIIT-H and TalentSprint"
      ]
    },
    {
      "metadata": {
        "id": "eiVWTdIJZ6CQ",
        "colab_type": "text"
      },
      "cell_type": "markdown",
      "source": [
        "The objective of this experiment is to understand RNN."
      ]
    },
    {
      "metadata": {
        "id": "dkHMFuSpZ6CS",
        "colab_type": "text"
      },
      "cell_type": "markdown",
      "source": [
        "In this experiment we will use RNN to classify text one character at a time. We will be using shakespeare.txt as our input file to the classifier."
      ]
    },
    {
      "metadata": {
        "id": "LOs7dwuIZ6CT",
        "colab_type": "text"
      },
      "cell_type": "markdown",
      "source": [
        "The idea behind RNNs is to make use of sequential information. In a traditional neural network we assume that all inputs (and outputs) are independent of each other. But for many tasks that’s a very bad idea. If you want to predict the next word in a sentence you better know which words came before it. RNNs are called recurrent because they perform the same task for every element of a sequence, with the output being depended on the previous computations."
      ]
    },
    {
      "metadata": {
        "id": "jyLHK63HZ6CU",
        "colab_type": "text"
      },
      "cell_type": "markdown",
      "source": [
        "#### Keywords\n",
        "\n",
        "* RNN\n",
        "* Gated recurrent unit\n",
        "* Crossentropy\n",
        "* Adam"
      ]
    },
    {
      "metadata": {
        "id": "zvo0Q5wAZ6CW",
        "colab_type": "text"
      },
      "cell_type": "markdown",
      "source": [
        "#### Expected time to complete the experiment is : 90 min"
      ]
    },
    {
      "metadata": {
        "id": "sSPf03mmswF6",
        "colab_type": "code",
        "cellView": "form",
        "outputId": "9ff50dad-3651-4427-9326-441a5bfb872c",
        "colab": {
          "base_uri": "https://localhost:8080/",
          "height": 320
        }
      },
      "cell_type": "code",
      "source": [
        "#@title Experiment Explanation Video\n",
        "from IPython.display import HTML\n",
        "\n",
        "HTML(\"\"\"<video width=\"800\" height=\"300\" controls>\n",
        "  <source src=\"https://cdn.talentsprint.com/talentsprint/archives/sc/aiml/aiml_2018_blr_b6/cfus/week_12/module_3_week_12_experiment_1.mp4\" type=\"video/mp4\">\n",
        "</video>\n",
        "\"\"\")"
      ],
      "execution_count": 0,
      "outputs": [
        {
          "output_type": "execute_result",
          "data": {
            "text/html": [
              "<video width=\"800\" height=\"300\" controls>\n",
              "  <source src=\"https://cdn.talentsprint.com/talentsprint/archives/sc/aiml/aiml_2018_blr_b6/cfus/week_12/module_3_week_12_experiment_1.mp4\" type=\"video/mp4\">\n",
              "</video>\n"
            ],
            "text/plain": [
              "<IPython.core.display.HTML object>"
            ]
          },
          "metadata": {
            "tags": []
          },
          "execution_count": 1
        }
      ]
    },
    {
      "metadata": {
        "id": "Mai03dwIgRGG",
        "colab_type": "text"
      },
      "cell_type": "markdown",
      "source": [
        "### Setup Steps"
      ]
    },
    {
      "metadata": {
        "id": "On6MHAPdgXn8",
        "colab_type": "code",
        "colab": {}
      },
      "cell_type": "code",
      "source": [
        "#@title Please enter your registration id to start: (e.g. P181900101) { run: \"auto\", display-mode: \"form\" }\n",
        "Id = \"P19A06E_test\" #@param {type:\"string\"}\n"
      ],
      "execution_count": 0,
      "outputs": []
    },
    {
      "metadata": {
        "id": "KoPyleSigYRH",
        "colab_type": "code",
        "colab": {}
      },
      "cell_type": "code",
      "source": [
        "#@title Please enter your password (normally your phone number) to continue: { run: \"auto\", display-mode: \"form\" }\n",
        "password = \"981234567\" #@param {type:\"string\"}\n"
      ],
      "execution_count": 0,
      "outputs": []
    },
    {
      "metadata": {
        "id": "7POOx3PlJwS_",
        "colab_type": "code",
        "cellView": "form",
        "outputId": "8c6f92b0-0faa-4661-dd23-249364e54721",
        "colab": {
          "base_uri": "https://localhost:8080/",
          "height": 34
        }
      },
      "cell_type": "code",
      "source": [
        "#@title Run this cell to complete the setup for this Notebook\n",
        "\n",
        "from IPython import get_ipython\n",
        "ipython = get_ipython()\n",
        "  \n",
        "notebook=\"BLR_M3W12_SAT_EXP_1\" #name of the notebook\n",
        "\n",
        "def setup():\n",
        "#  ipython.magic(\"sx pip3 install torch\")\n",
        "    ipython.magic(\"sx pip3 install torch\")\n",
        "    ipython.magic(\"sx wget https://cdn.talentsprint.com/aiml/Experiment_related_data/week10/Exp1/shakespeare.txt\")\n",
        "    ipython.magic(\"sx pip3 install unidecode\")\n",
        "    print (\"Setup completed successfully\")\n",
        "    return\n",
        "\n",
        "def submit_notebook():\n",
        "    \n",
        "    ipython.magic(\"notebook -e \"+ notebook + \".ipynb\")\n",
        "    \n",
        "    import requests, json, base64, datetime\n",
        "\n",
        "    url = \"https://dashboard.talentsprint.com/xp/app/save_notebook_attempts\"\n",
        "    if not submission_id:\n",
        "      data = {\"id\" : getId(), \"notebook\" : notebook, \"mobile\" : getPassword()}\n",
        "      r = requests.post(url, data = data)\n",
        "      r = json.loads(r.text)\n",
        "\n",
        "      if r[\"status\"] == \"Success\":\n",
        "          return r[\"record_id\"]\n",
        "      elif \"err\" in r:        \n",
        "        print(r[\"err\"])\n",
        "        return None        \n",
        "      else:\n",
        "        print (\"Something is wrong, the notebook will not be submitted for grading\")\n",
        "        return None\n",
        "\n",
        "    elif getComplexity() and getAdditional() and getConcepts():\n",
        "      f = open(notebook + \".ipynb\", \"rb\")\n",
        "      file_hash = base64.b64encode(f.read())\n",
        "\n",
        "      data = {\"complexity\" : Complexity, \"additional\" :Additional, \n",
        "              \"concepts\" : Concepts, \"record_id\" : submission_id, \n",
        "              \"id\" : Id, \"file_hash\" : file_hash, \"notebook\" : notebook}\n",
        "\n",
        "      r = requests.post(url, data = data)\n",
        "      print(\"Your submission is successful.\")\n",
        "      print(\"Ref Id:\", submission_id)\n",
        "      print(\"Date of submission: \", datetime.datetime.now().date().strftime(\"%d %b %Y\"))\n",
        "      print(\"Time of submission: \", datetime.datetime.now().time().strftime(\"%H:%M:%S\"))\n",
        "      print(\"View your submissions: https://iiith-aiml.talentsprint.com/notebook_submissions\")\n",
        "      print(\"For any queries/discrepancies, please connect with mentors through the chat icon in LMS dashboard.\")\n",
        "      return submission_id\n",
        "    else: submission_id\n",
        "    \n",
        "\n",
        "def getAdditional():\n",
        "  try:\n",
        "    if Additional: return Additional      \n",
        "    else: raise NameError('')\n",
        "  except NameError:\n",
        "    print (\"Please answer Additional Question\")\n",
        "    return None\n",
        "\n",
        "def getComplexity():\n",
        "  try:\n",
        "    return Complexity\n",
        "  except NameError:\n",
        "    print (\"Please answer Complexity Question\")\n",
        "    return None\n",
        "  \n",
        "def getConcepts():\n",
        "  try:\n",
        "    return Concepts\n",
        "  except NameError:\n",
        "    print (\"Please answer Concepts Question\")\n",
        "    return None\n",
        "\n",
        "def getId():\n",
        "  try: \n",
        "    return Id if Id else None\n",
        "  except NameError:\n",
        "    return None\n",
        "\n",
        "def getPassword():\n",
        "  try:\n",
        "    return password if password else None\n",
        "  except NameError:\n",
        "    return None\n",
        "\n",
        "submission_id = None\n",
        "### Setup \n",
        "if getPassword() and getId():\n",
        "  submission_id = submit_notebook()\n",
        "  if submission_id:\n",
        "    setup()\n",
        "  \n",
        "else:\n",
        "  print (\"Please complete Id and Password cells before running setup\")\n",
        "\n"
      ],
      "execution_count": 0,
      "outputs": [
        {
          "output_type": "stream",
          "text": [
            "Setup completed successfully\n"
          ],
          "name": "stdout"
        }
      ]
    },
    {
      "metadata": {
        "id": "MaCOXOdNpiKr",
        "colab_type": "code",
        "outputId": "26b7cea6-12f8-4c0a-ec36-37f054df7d47",
        "colab": {
          "base_uri": "https://localhost:8080/",
          "height": 34
        }
      },
      "cell_type": "code",
      "source": [
        "!wc -l *.txt"
      ],
      "execution_count": 0,
      "outputs": [
        {
          "output_type": "stream",
          "text": [
            "39999 shakespeare.txt\n"
          ],
          "name": "stdout"
        }
      ]
    },
    {
      "metadata": {
        "id": "T3HMm0p-Z6CX",
        "colab_type": "text"
      },
      "cell_type": "markdown",
      "source": [
        "## 1. Preparing the data"
      ]
    },
    {
      "metadata": {
        "id": "-6o_k37DZ6CY",
        "colab_type": "text"
      },
      "cell_type": "markdown",
      "source": [
        "The file we are using is a plain text file. We turn any potential unicode characters into plain ASCII by using the unidecode package."
      ]
    },
    {
      "metadata": {
        "id": "11e72PpPZ6Ca",
        "colab_type": "code",
        "colab": {}
      },
      "cell_type": "code",
      "source": [
        "## Importing required packages\n",
        "import unidecode\n",
        "import string\n",
        "import random\n",
        "import re"
      ],
      "execution_count": 0,
      "outputs": []
    },
    {
      "metadata": {
        "id": "sE5njLNJZ6Cg",
        "colab_type": "code",
        "outputId": "d8727f93-f7b5-4a15-a97d-f0f8c823e049",
        "colab": {
          "base_uri": "https://localhost:8080/",
          "height": 34
        }
      },
      "cell_type": "code",
      "source": [
        "all_characters = string.printable\n",
        "## code to find length of all_characters and storing the value in n_characters\n",
        "n_characters = len(all_characters)\n",
        "## code to convert unicode characters into plain ASCII.\n",
        "file = unidecode.unidecode(open('shakespeare.txt').read())\n",
        "## code to find length of the file\n",
        "file_len = len(file)\n",
        "## printing the length of the file\n",
        "print('file_len =', file_len)"
      ],
      "execution_count": 0,
      "outputs": [
        {
          "output_type": "stream",
          "text": [
            "file_len = 1115393\n"
          ],
          "name": "stdout"
        }
      ]
    },
    {
      "metadata": {
        "id": "gM3NTD74Z6Cp",
        "colab_type": "code",
        "outputId": "233b1477-0815-4b5c-aae1-12a97d988d82",
        "colab": {
          "base_uri": "https://localhost:8080/",
          "height": 54
        }
      },
      "cell_type": "code",
      "source": [
        "file[:1000]"
      ],
      "execution_count": 0,
      "outputs": [
        {
          "output_type": "execute_result",
          "data": {
            "text/plain": [
              "\"First Citizen:\\nBefore we proceed any further, hear me speak.\\n\\nAll:\\nSpeak, speak.\\n\\nFirst Citizen:\\nYou are all resolved rather to die than to famish?\\n\\nAll:\\nResolved. resolved.\\n\\nFirst Citizen:\\nFirst, you know Caius Marcius is chief enemy to the people.\\n\\nAll:\\nWe know't, we know't.\\n\\nFirst Citizen:\\nLet us kill him, and we'll have corn at our own price.\\nIs't a verdict?\\n\\nAll:\\nNo more talking on't; let it be done: away, away!\\n\\nSecond Citizen:\\nOne word, good citizens.\\n\\nFirst Citizen:\\nWe are accounted poor citizens, the patricians good.\\nWhat authority surfeits on would relieve us: if they\\nwould yield us but the superfluity, while it were\\nwholesome, we might guess they relieved us humanely;\\nbut they think we are too dear: the leanness that\\nafflicts us, the object of our misery, is as an\\ninventory to particularise their abundance; our\\nsufferance is a gain to them Let us revenge this with\\nour pikes, ere we become rakes: for the gods know I\\nspeak this in hunger for bread, not in thirst for revenge.\\n\\n\""
            ]
          },
          "metadata": {
            "tags": []
          },
          "execution_count": 10
        }
      ]
    },
    {
      "metadata": {
        "id": "1BfQ1VWCZ6Cw",
        "colab_type": "text"
      },
      "cell_type": "markdown",
      "source": [
        "As the string is large, we are going to split it into chunks to provide inputs to the RNN using function random_chunk()."
      ]
    },
    {
      "metadata": {
        "id": "1TffxtFCZ6Cz",
        "colab_type": "code",
        "outputId": "21cf24b5-fe13-4ca3-a97f-23a196473222",
        "colab": {
          "base_uri": "https://localhost:8080/",
          "height": 190
        }
      },
      "cell_type": "code",
      "source": [
        "## Initializing the length of chunk\n",
        "chunk_len = 200\n",
        "## Function to split the string into chunks\n",
        "def random_chunk():\n",
        "    ## Initializing the starting index value of the big string \n",
        "    start_index = random.randint(0, file_len - chunk_len)\n",
        "    ## Initializing the ending index of the string \n",
        "    end_index = start_index + chunk_len + 1\n",
        "    ## returning the chunk\n",
        "    return file[start_index:end_index]\n",
        "\n",
        "print(random_chunk())"
      ],
      "execution_count": 0,
      "outputs": [
        {
          "output_type": "stream",
          "text": [
            ".\n",
            "\n",
            "LEONTES:\n",
            "Well said, Hermione.\n",
            "\n",
            "HERMIONE:\n",
            "To tell, he longs to see his son, were strong:\n",
            "But let him say so then, and let him go;\n",
            "But let him swear so, and he shall not stay,\n",
            "We'll thwack him hence w\n"
          ],
          "name": "stdout"
        }
      ]
    },
    {
      "metadata": {
        "id": "RyKv4jyAZ6C6",
        "colab_type": "text"
      },
      "cell_type": "markdown",
      "source": [
        "##  2. Building the model"
      ]
    },
    {
      "metadata": {
        "id": "Biz0cKYkZ6C8",
        "colab_type": "text"
      },
      "cell_type": "markdown",
      "source": [
        "This model will take as input the character for step $(t-1)$, and is expected to output the next character $t$. There are three layers - one linear layer that encodes the input character into an internal state, one GRU layer (which may itself have multiple layers) that operates on that internal state and a hidden state, and a decoder layer that outputs the probability distribution."
      ]
    },
    {
      "metadata": {
        "id": "3h1GIrjHZ6C9",
        "colab_type": "code",
        "colab": {}
      },
      "cell_type": "code",
      "source": [
        "###importing required packages\n",
        "import torch\n",
        "import torch.nn as nn\n",
        "from torch.autograd import Variable\n",
        "\n",
        "### Creating recurrent neural network\n",
        "class RNN(nn.Module):\n",
        "    \n",
        "    def __init__(self, input_size, hidden_size, output_size, n_layers=1):\n",
        "        super(RNN, self).__init__()\n",
        "        self.input_size = input_size\n",
        "        self.hidden_size = hidden_size\n",
        "        self.output_size = output_size\n",
        "        self.n_layers = n_layers\n",
        "        self.encoder = nn.Embedding(input_size, hidden_size)\n",
        "        self.gru = nn.GRU(hidden_size, hidden_size, n_layers)\n",
        "        self.decoder = nn.Linear(hidden_size, output_size)\n",
        "    \n",
        "    def forward(self, input, hidden):\n",
        "        input = self.encoder(input.view(1, -1))\n",
        "        output, hidden = self.gru(input.view(1, 1, -1), hidden)\n",
        "        output = self.decoder(output.view(1, -1))\n",
        "        return output, hidden\n",
        "\n",
        "    def init_hidden(self):\n",
        "        return Variable(torch.zeros(self.n_layers, 1, self.hidden_size))"
      ],
      "execution_count": 0,
      "outputs": []
    },
    {
      "metadata": {
        "id": "kP3H8LiSZ6DC",
        "colab_type": "text"
      },
      "cell_type": "markdown",
      "source": [
        "## 3. Defining the helper functions"
      ]
    },
    {
      "metadata": {
        "id": "cpWdV9iEZ6DD",
        "colab_type": "text"
      },
      "cell_type": "markdown",
      "source": [
        "#### Inputs and targets"
      ]
    },
    {
      "metadata": {
        "id": "kGrkkrg5Z6DF",
        "colab_type": "text"
      },
      "cell_type": "markdown",
      "source": [
        "Each chunk will be turned into a tensor, specifically a LongTensor (used for integer values), by looping through the characters of the string and looking up the index of each character in all_characters."
      ]
    },
    {
      "metadata": {
        "id": "_j2hxN7QZ6DF",
        "colab_type": "code",
        "outputId": "ffc66d95-7351-4af5-e55c-fd0756f7d916",
        "colab": {
          "base_uri": "https://localhost:8080/",
          "height": 34
        }
      },
      "cell_type": "code",
      "source": [
        "# Turn string into list of longs\n",
        "def char_tensor(string):\n",
        "    ## tensor is a array\n",
        "    tensor = torch.zeros(len(string)).long()\n",
        "    for c in range(len(string)):\n",
        "        tensor[c] = all_characters.index(string[c])\n",
        "    return Variable(tensor)\n",
        "\n",
        "print(char_tensor('abcDEF'))"
      ],
      "execution_count": 0,
      "outputs": [
        {
          "output_type": "stream",
          "text": [
            "tensor([10, 11, 12, 39, 40, 41])\n"
          ],
          "name": "stdout"
        }
      ]
    },
    {
      "metadata": {
        "id": "TrottX4SZ6DL",
        "colab_type": "text"
      },
      "cell_type": "markdown",
      "source": [
        "Finally we can assemble a pair of input and target tensors for training, from a random chunk. The input will be all characters up to the last, and the target will be all characters from the first. So if our chunk is \"abc\" the input will correspond to \"ab\" while the target is \"bc\"."
      ]
    },
    {
      "metadata": {
        "id": "siN-Z8X_Z6DN",
        "colab_type": "code",
        "colab": {}
      },
      "cell_type": "code",
      "source": [
        "def random_training_set():    \n",
        "    chunk = random_chunk()\n",
        "    inp = char_tensor(chunk[:-1])\n",
        "    target = char_tensor(chunk[1:])\n",
        "    return inp, target"
      ],
      "execution_count": 0,
      "outputs": []
    },
    {
      "metadata": {
        "id": "c4QPs5BqZ6DS",
        "colab_type": "text"
      },
      "cell_type": "markdown",
      "source": [
        "#### Evaluating"
      ]
    },
    {
      "metadata": {
        "id": "MgEPSdSIZ6DU",
        "colab_type": "text"
      },
      "cell_type": "markdown",
      "source": [
        "To evaluate the network we will feed one character at a time, use the outputs of the network as a probability distribution for the next character, and repeat. To start generation we pass a priming string to start building up the hidden state, from which we then generate one character at a time.\n",
        "\n"
      ]
    },
    {
      "metadata": {
        "id": "v2m-JfwXZ6DW",
        "colab_type": "code",
        "colab": {}
      },
      "cell_type": "code",
      "source": [
        "def evaluate(prime_str='A', predict_len=100, temperature=0.8):\n",
        "    hidden = decoder.init_hidden()\n",
        "    prime_input = char_tensor(prime_str)\n",
        "    predicted = prime_str\n",
        "\n",
        "    # Use priming string to \"build up\" hidden state\n",
        "    for p in range(len(prime_str) - 1):\n",
        "        _, hidden = decoder(prime_input[p], hidden)\n",
        "    inp = prime_input[-1]\n",
        "    \n",
        "    for p in range(predict_len):\n",
        "        output, hidden = decoder(inp, hidden)\n",
        "        \n",
        "        # Sample from the network as a multinomial distribution\n",
        "        output_dist = output.data.view(-1).div(temperature).exp()\n",
        "        top_i = torch.multinomial(output_dist, 1)[0]\n",
        "        \n",
        "        # Add predicted character to string and use as next input\n",
        "        predicted_char = all_characters[top_i]\n",
        "        predicted += predicted_char\n",
        "        inp = char_tensor(predicted_char)\n",
        "\n",
        "    return predicted"
      ],
      "execution_count": 0,
      "outputs": []
    },
    {
      "metadata": {
        "id": "yZVmbuZ4Z6De",
        "colab_type": "text"
      },
      "cell_type": "markdown",
      "source": [
        "## 4. Training the model"
      ]
    },
    {
      "metadata": {
        "id": "vEbpHyx0Z6Dg",
        "colab_type": "text"
      },
      "cell_type": "markdown",
      "source": [
        "To keep track of how long training takes, we have added a time_since(timestamp) function which returns a human readable string"
      ]
    },
    {
      "metadata": {
        "id": "rFevLn43Z6Dh",
        "colab_type": "code",
        "colab": {}
      },
      "cell_type": "code",
      "source": [
        "## Importing required packages\n",
        "import time, math\n",
        "## function to print amount of time passed\n",
        "def time_since(since):\n",
        "    s = time.time() - since\n",
        "    m = math.floor(s / 60)\n",
        "    s -= m * 60\n",
        "    return '%dm %ds' % (m, s)"
      ],
      "execution_count": 0,
      "outputs": []
    },
    {
      "metadata": {
        "id": "QXqylIRyZ6Dn",
        "colab_type": "text"
      },
      "cell_type": "markdown",
      "source": [
        "#### The main training function"
      ]
    },
    {
      "metadata": {
        "id": "n3vWoTsxZ6Dp",
        "colab_type": "code",
        "colab": {}
      },
      "cell_type": "code",
      "source": [
        "def train(inp, target):\n",
        "    hidden = decoder.init_hidden()\n",
        "    decoder.zero_grad()\n",
        "    loss = 0\n",
        "\n",
        "    for c in range(chunk_len):\n",
        "        output, hidden = decoder(inp[c], hidden)\n",
        "        loss += criterion(output, target[c].unsqueeze(dim=0))\n",
        "\n",
        "    loss.backward()\n",
        "    decoder_optimizer.step()\n",
        "\n",
        "    return loss.item() / chunk_len"
      ],
      "execution_count": 0,
      "outputs": []
    },
    {
      "metadata": {
        "id": "dB-y61RZZ6Dt",
        "colab_type": "text"
      },
      "cell_type": "markdown",
      "source": [
        "Then we define the training parameters, instantiate the model, and start training"
      ]
    },
    {
      "metadata": {
        "id": "OPG6aUEeZ6Du",
        "colab_type": "code",
        "outputId": "d1eae725-c3da-4853-cfe9-3142099a4b07",
        "colab": {
          "base_uri": "https://localhost:8080/",
          "height": 4043
        }
      },
      "cell_type": "code",
      "source": [
        "n_epochs = 2000 #Number of epochs\n",
        "print_every = 50\n",
        "plot_every = 20\n",
        "hidden_size = 100\n",
        "n_layers = 1\n",
        "lr = 0.005\n",
        "\n",
        "decoder = RNN(n_characters, hidden_size, n_characters, n_layers)\n",
        "## Optimizer\n",
        "decoder_optimizer = torch.optim.Adam(decoder.parameters(), lr=lr)\n",
        "## Loss function\n",
        "criterion = nn.CrossEntropyLoss()\n",
        "\n",
        "start = time.time()\n",
        "all_losses = []\n",
        "loss_avg = 0\n",
        "\n",
        "#In this for loop for every 100th iteration we are printing the time taken, loss and the chunk.\n",
        "for epoch in range(1, n_epochs + 1):\n",
        "    loss = train(*random_training_set())       \n",
        "    loss_avg += loss\n",
        "\n",
        "    if epoch % print_every == 0:\n",
        "        print('[%s (%d %d%%) %.4f]' % (time_since(start), epoch, epoch / n_epochs * 100, loss))\n",
        "        print(evaluate('Wh', 100), '\\n')\n",
        "\n",
        "    if epoch % plot_every == 0:\n",
        "        all_losses.append(loss_avg / plot_every)\n",
        "        loss_avg = 0"
      ],
      "execution_count": 0,
      "outputs": [
        {
          "output_type": "stream",
          "text": [
            "[0m 6s (50 2%) 2.3369]\n",
            "Wh'is angyand\n",
            "A\n",
            "Ane thand okises ghise foce ? eanr'lllltir saess\n",
            "Oof iss\n",
            "Yilles,\n",
            "\n",
            "OORQLOE:\n",
            "Wout theit  \n",
            "\n",
            "[0m 12s (100 5%) 2.3522]\n",
            "Whaven, bee weve houn ill me thee mer thith, theens rleatr bus, os what weand taris mely and to theerv \n",
            "\n",
            "[0m 19s (150 7%) 2.0388]\n",
            "Whime I cacgth me\n",
            "Thoun ind move thou ir to pard thier but youncy the you none thiceam noth the in my  \n",
            "\n",
            "[0m 25s (200 10%) 2.1047]\n",
            "Whed roth\n",
            "Poud wood loter sole fill came with mant prarepsest mompheest bome mustell ment thou thou th \n",
            "\n",
            "[0m 31s (250 12%) 2.1258]\n",
            "Who in it hey of the will monge kove nours youtring with heer: fo and ain and thou dowl, stas and it I \n",
            "\n",
            "[0m 37s (300 15%) 2.2256]\n",
            "When the goxden,\n",
            "By hirst habugh, the laitese;\n",
            "No the proventse gods me hen thatinging als him hive, c \n",
            "\n",
            "[0m 43s (350 17%) 1.9526]\n",
            "Where of his fastere, well make the with wits this call to thee grate as rune!\n",
            "\n",
            "CENEN:\n",
            "\n",
            "CRUIS:\n",
            "Whe bri \n",
            "\n",
            "[0m 49s (400 20%) 1.8891]\n",
            "Which mall saise mould men, who hadus sailess bucon,\n",
            "Of shall intselle,\n",
            "That show that st hebut hath s \n",
            "\n",
            "[0m 56s (450 22%) 2.1180]\n",
            "Wheard, scordir see: a slimieled, seer whose there chatair,\n",
            "I they stay but then there hower that ford \n",
            "\n",
            "[1m 2s (500 25%) 2.0348]\n",
            "Where prace leake and and as lis in and day,\n",
            "Sand cat lithe;\n",
            "And here shall so mors toughture a saynet \n",
            "\n",
            "[1m 8s (550 27%) 2.0098]\n",
            "Whery to thim. I which me of home I him, come the what the servis with your,\n",
            "The con doaning Hise your \n",
            "\n",
            "[1m 15s (600 30%) 2.2329]\n",
            "WhORKES:\n",
            "Wenther nesso, hadonce's thour mook not you have even the sa exemy, there.\n",
            "\n",
            "ISABELLA:\n",
            "Blownci \n",
            "\n",
            "[1m 21s (650 32%) 2.1988]\n",
            "When,\n",
            "Stall\n",
            "for you have see am elloughterance of me.\n",
            "\n",
            "HARWINIA:\n",
            "Promm shen I dam beich the prook beef \n",
            "\n",
            "[1m 27s (700 35%) 1.9901]\n",
            "Whis deapdines, the strestandy know of the my fright, whrturning, died, have is rechirs, had what my s \n",
            "\n",
            "[1m 33s (750 37%) 1.8036]\n",
            "WhRessen: consed me; Your him changelf\n",
            "He must all in.\n",
            "\n",
            "LEOMEN:\n",
            "\n",
            "Sich make 'take unor slair; Come ell, \n",
            "\n",
            "[1m 40s (800 40%) 1.7810]\n",
            "What py her\n",
            "As ith, that sarus, the gain are a more amur you when her thus unare bathe a call pourds s \n",
            "\n",
            "[1m 46s (850 42%) 1.8551]\n",
            "Wheres have a mout, une diserve's fair do son fith and and First: and for a I ditse amp't:\n",
            "We'll anbas \n",
            "\n",
            "[1m 52s (900 45%) 1.8871]\n",
            "What who her the pear, sing would the pugst bety hadg.\n",
            "\n",
            "HARTER:\n",
            "Not but thoud he well him thou and wer \n",
            "\n",
            "[1m 59s (950 47%) 2.0676]\n",
            "What for you.\n",
            "\n",
            "JULIET:\n",
            "Ind more encoge, my me lord; les' fare:\n",
            "My lord, City for of and trome monter'd \n",
            "\n",
            "[2m 5s (1000 50%) 1.8394]\n",
            "What may heaveried,\n",
            "low? I with I is that affle anture.\n",
            "\n",
            "LADY EDWARWICK:\n",
            "Be nawy me thun our sese\n",
            "Ruid \n",
            "\n",
            "[2m 11s (1050 52%) 2.0279]\n",
            "Wheer:\n",
            "I lo, we have would yould the me to the crick you\n",
            "Leps of thuse to man as with deed it for but  \n",
            "\n",
            "[2m 18s (1100 55%) 1.8137]\n",
            "When like make no lith sir, from what foult; the my desserven to beat and fierage,\n",
            "And, thy say do wou \n",
            "\n",
            "[2m 24s (1150 57%) 2.0218]\n",
            "When causters if hind too love allanger what I for quess of thatted hands, fathoughtelvest,\n",
            "You subjec \n",
            "\n",
            "[2m 30s (1200 60%) 1.5209]\n",
            "What take chour's ellous.\n",
            " ram in repains one the what had, thy he would we stich my fring-\n",
            "Nuring lif \n",
            "\n",
            "[2m 37s (1250 62%) 1.7937]\n",
            "Whone our uposs strunst sir?\n",
            "\n",
            "QUEENES:\n",
            "How he who hough of Mards hath of gought in lords give the como \n",
            "\n",
            "[2m 43s (1300 65%) 1.9282]\n",
            "Which to be his postiond,\n",
            "So fighs bose not when heireling or Warwick?\n",
            "\n",
            "GONZAULIO:\n",
            "Whick with thes swe \n",
            "\n",
            "[2m 50s (1350 67%) 1.7226]\n",
            "What the prate:\n",
            "For have now, and hown trage the oncle our say orn and:\n",
            "Not of this onour'd dear in en \n",
            "\n",
            "[2m 56s (1400 70%) 1.7981]\n",
            "Whech doft here\n",
            "And thim many be I prope the what more be sure and and,\n",
            "Have soul me be to comulf his  \n",
            "\n",
            "[3m 3s (1450 72%) 1.8352]\n",
            "Whan I straved that herier he desty?\n",
            "\n",
            "LADY CLAUMERS:\n",
            "I farentystatast to he preitiopen you wither, the \n",
            "\n",
            "[3m 9s (1500 75%) 1.7240]\n",
            "Whoo to good counten March himord?\n",
            "\n",
            "SAPTIS:\n",
            "No who way work of I dows, do wareter one unto.\n",
            "\n",
            "ROMES:\n",
            "An \n",
            "\n",
            "[3m 15s (1550 77%) 1.6281]\n",
            "What thou duke that it appore, dof\n",
            "I kam well king,\n",
            "To read lown with so mare reath.\n",
            "\n",
            "KING EOK:\n",
            "And ma \n",
            "\n",
            "[3m 22s (1600 80%) 1.7980]\n",
            "Whis to thee'le pray,\n",
            "The houdis not tell in but\n",
            "Art him brasing are in beant before, Fie: I my parth  \n",
            "\n",
            "[3m 28s (1650 82%) 1.8235]\n",
            "Whehe,\n",
            "To for repon to shours, thy muptining to me the dounes of my so whow your glood is till herais  \n",
            "\n",
            "[3m 34s (1700 85%) 1.8421]\n",
            "Why;\n",
            "I should is foul me overer, by setor ause the priaibour,\n",
            "Will the restrese as his be him your,\n",
            "Wh \n",
            "\n",
            "[3m 41s (1750 87%) 2.0100]\n",
            "Wherel hand you\n",
            "Was her grace me and kssury so father.\n",
            "\n",
            "BADINA:\n",
            "A may again and his must then?\n",
            "What to \n",
            "\n",
            "[3m 47s (1800 90%) 2.0909]\n",
            "Whis,\n",
            "And hering he have and he well say.\n",
            "\n",
            "AULIDIUS:\n",
            "And the his for thereft hand have houre,\n",
            "But look \n",
            "\n",
            "[3m 53s (1850 92%) 1.8093]\n",
            "Whiled too at this hey comed and my leance that with evisong: ston from, fathed:\n",
            "Which what I'll stan' \n",
            "\n",
            "[4m 0s (1900 95%) 1.8769]\n",
            "Who and the prooks,\n",
            "And this bret at my let both to shout your strant bleire.\n",
            "\n",
            "SICINIUS:\n",
            "That an to so \n",
            "\n",
            "[4m 6s (1950 97%) 1.8248]\n",
            "What is but Capcins? Nort, head.\n",
            "\n",
            "SESCESTERD MINCENTIO:\n",
            "Make that banas.\n",
            "\n",
            "ILA:\n",
            "By hir you he have the  \n",
            "\n",
            "[4m 12s (2000 100%) 1.8808]\n",
            "Where fet I sharked your, with shall hard,\n",
            "And sea, bod!\n",
            "\n",
            "GRvO:\n",
            "But tour his good Konericinands;\n",
            "I he' \n",
            "\n"
          ],
          "name": "stdout"
        }
      ]
    },
    {
      "metadata": {
        "id": "xWhQGN73Z6D4",
        "colab_type": "text"
      },
      "cell_type": "markdown",
      "source": [
        "#### Plotting the Training Losses"
      ]
    },
    {
      "metadata": {
        "id": "mkHYKnQiZ6D6",
        "colab_type": "text"
      },
      "cell_type": "markdown",
      "source": [
        "Plotting the historical loss from all_losses shows the network learning"
      ]
    },
    {
      "metadata": {
        "id": "aRMgqaJoZ6D8",
        "colab_type": "code",
        "outputId": "22187438-4f82-454a-da19-62ee7f2242ae",
        "colab": {
          "base_uri": "https://localhost:8080/",
          "height": 299
        }
      },
      "cell_type": "code",
      "source": [
        "import matplotlib.pyplot as plt\n",
        "import matplotlib.ticker as ticker\n",
        "%matplotlib inline\n",
        "\n",
        "plt.figure()\n",
        "plt.plot(all_losses)\n",
        "plt.xlabel(\"epoch\")\n",
        "plt.ylabel(\"loss\")"
      ],
      "execution_count": 0,
      "outputs": [
        {
          "output_type": "execute_result",
          "data": {
            "text/plain": [
              "Text(0, 0.5, 'loss')"
            ]
          },
          "metadata": {
            "tags": []
          },
          "execution_count": 19
        },
        {
          "output_type": "display_data",
          "data": {
            "image/png": "[encoded data removed]",
            "text/plain": [
              "<Figure size 432x288 with 1 Axes>"
            ]
          },
          "metadata": {
            "tags": []
          }
        }
      ]
    },
    {
      "metadata": {
        "id": "aDMlqGtnZ6EF",
        "colab_type": "text"
      },
      "cell_type": "markdown",
      "source": [
        "#### Adapting or tuning for prose writing"
      ]
    },
    {
      "metadata": {
        "id": "KsMf807zZ6EG",
        "colab_type": "text"
      },
      "cell_type": "markdown",
      "source": [
        "In the evaluate function above, every time a prediction is made the outputs are divided by the \"temperature\" argument passed. Using a higher number makes all actions more equally likely, and thus gives us \"more random\" outputs. Using a lower value (less than 1) makes high probabilities contribute more. As we turn the temperature towards zero we are choosing only the most likely outputs.\n"
      ]
    },
    {
      "metadata": {
        "id": "-hkcqnIlZ6EI",
        "colab_type": "text"
      },
      "cell_type": "markdown",
      "source": [
        "We can see the effects of this by adjusting the temperature argument."
      ]
    },
    {
      "metadata": {
        "id": "cSwY7UOEZ6EK",
        "colab_type": "code",
        "outputId": "bd0e7ec0-fb63-493f-e2fa-ed8fcc56339f",
        "colab": {
          "base_uri": "https://localhost:8080/",
          "height": 121
        }
      },
      "cell_type": "code",
      "source": [
        "print(evaluate('u', 200, temperature=0.8))"
      ],
      "execution_count": 0,
      "outputs": [
        {
          "output_type": "stream",
          "text": [
            "unt.\n",
            "\n",
            "GRAMIO:\n",
            "I not shoo to to begaint, stell thought\n",
            "And sshe pastens, Pipchood, and she she did matter remed too do me Richire te\n",
            "portruch have Hange ham the her well suret the off tere me he with af\n"
          ],
          "name": "stdout"
        }
      ]
    },
    {
      "metadata": {
        "id": "WIjNrZNSZ6ER",
        "colab_type": "text"
      },
      "cell_type": "markdown",
      "source": [
        "Lower temperatures are less varied, choosing only the more probable outputs:"
      ]
    },
    {
      "metadata": {
        "id": "KPt6AhnNZ6ET",
        "colab_type": "text"
      },
      "cell_type": "markdown",
      "source": [
        "print(evaluate('Th', 200, temperature=0.2))"
      ]
    },
    {
      "metadata": {
        "id": "80cSDcEXZ6EU",
        "colab_type": "text"
      },
      "cell_type": "markdown",
      "source": [
        "\n",
        "Higher temperatures more varied, choosing less probable outputs:"
      ]
    },
    {
      "metadata": {
        "id": "NXusqAsCZ6EV",
        "colab_type": "code",
        "outputId": "a2e6468f-3abf-4f5d-b5dc-34193a33186d",
        "colab": {
          "base_uri": "https://localhost:8080/",
          "height": 155
        }
      },
      "cell_type": "code",
      "source": [
        "print(evaluate('how', 200, temperature=1.4))"
      ],
      "execution_count": 0,
      "outputs": [
        {
          "output_type": "stream",
          "text": [
            "how for thal to, the\n",
            "Juener theiar: dorce: 'y.\n",
            "\n",
            "QUEN LE:\n",
            "Shat I sawn. It brod this 'to and the gutt indeer good\n",
            "While me noges, Kise,\n",
            "An icnighsors? faitier-won the motheis to sho,\n",
            "Boold's, your's befull\n"
          ],
          "name": "stdout"
        }
      ]
    },
    {
      "metadata": {
        "id": "LOkO2rwFZ6Eb",
        "colab_type": "text"
      },
      "cell_type": "markdown",
      "source": [
        "### Exercise 1:\n",
        "\n",
        "Change the number of epochs to 1000. Calculate the time taken and loss."
      ]
    },
    {
      "metadata": {
        "id": "Hf0b5N3MZ6Ec",
        "colab_type": "text"
      },
      "cell_type": "markdown",
      "source": [
        "### Exercise 2:\n",
        "\n",
        "Change the print every to 50 and plot every to 20. Calculate the time taken and loss and plot the loss graph"
      ]
    },
    {
      "metadata": {
        "id": "QyRAncKu7st7",
        "colab_type": "text"
      },
      "cell_type": "markdown",
      "source": [
        "Advanced "
      ]
    },
    {
      "metadata": {
        "id": "5CRZeawx7sDs",
        "colab_type": "code",
        "colab": {}
      },
      "cell_type": "code",
      "source": [
        ""
      ],
      "execution_count": 0,
      "outputs": []
    },
    {
      "metadata": {
        "id": "TtQo0EAjhkPb",
        "colab_type": "text"
      },
      "cell_type": "markdown",
      "source": [
        "### Please answer the questions below to complete the experiment:\n",
        "\n",
        "\n"
      ]
    },
    {
      "metadata": {
        "id": "cP4uAYCVZ6Ee",
        "colab_type": "code",
        "colab": {}
      },
      "cell_type": "code",
      "source": [
        "#@title How was the experiment? { run: \"auto\", form-width: \"500px\", display-mode: \"form\" }\n",
        "Complexity = \"Good, But Not Challenging for me\" #@param [\"Too Simple, I am wasting time\", \"Good, But Not Challenging for me\", \"Good and Challenging for me\", \"Was Tough, but I did it\", \"Too Difficult for me\"]\n"
      ],
      "execution_count": 0,
      "outputs": []
    },
    {
      "metadata": {
        "id": "LGNb7P7fhpbF",
        "colab_type": "code",
        "colab": {}
      },
      "cell_type": "code",
      "source": [
        "#@title If it was very easy, what more you would have liked to have been added? If it was very difficult, what would you have liked to have been removed? { run: \"auto\", display-mode: \"form\" }\n",
        "Additional = \"ok\" #@param {type:\"string\"}"
      ],
      "execution_count": 0,
      "outputs": []
    },
    {
      "metadata": {
        "id": "yr11lFXshrFd",
        "colab_type": "code",
        "colab": {}
      },
      "cell_type": "code",
      "source": [
        "#@title Can you identify the concepts from the lecture which this experiment covered? { run: \"auto\", vertical-output: true, display-mode: \"form\" }\n",
        "Concepts = \"Yes\" #@param [\"Yes\", \"No\"]"
      ],
      "execution_count": 0,
      "outputs": []
    },
    {
      "metadata": {
        "id": "KsLmGpqmhtlg",
        "colab_type": "code",
        "cellView": "form",
        "colab": {}
      },
      "cell_type": "code",
      "source": [
        "#@title Run this cell to submit your notebook for grading { vertical-output: true }\n",
        "try:\n",
        "  if submission_id:\n",
        "      return_id = submit_notebook()\n",
        "      if return_id : submission_id =return_id\n",
        "  else:\n",
        "      print(\"Please complete the setup first.\")\n",
        "except NameError:\n",
        "  print (\"Please complete the setup first.\")"
      ],
      "execution_count": 0,
      "outputs": []
    },
    {
      "metadata": {
        "id": "51cY5cmcKJWl",
        "colab_type": "code",
        "colab": {}
      },
      "cell_type": "code",
      "source": [
        ""
      ],
      "execution_count": 0,
      "outputs": []
    }
  ]
}