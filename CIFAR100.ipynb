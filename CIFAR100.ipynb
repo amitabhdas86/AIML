{
  "nbformat": 4,
  "nbformat_minor": 0,
  "metadata": {
    "colab": {
      "name": "Experiment_3.ipynb",
      "version": "0.3.2",
      "provenance": [],
      "collapsed_sections": [],
      "include_colab_link": true
    },
    "kernelspec": {
      "name": "python3",
      "display_name": "Python 3"
    },
    "accelerator": "GPU"
  },
  "cells": [
    {
      "cell_type": "markdown",
      "metadata": {
        "id": "view-in-github",
        "colab_type": "text"
      },
      "source": [
        "<a href=\"https://colab.research.google.com/github/amitabhdas86/AIML/blob/master/CIFAR100.ipynb\" target=\"_parent\"><img src=\"https://colab.research.google.com/assets/colab-badge.svg\" alt=\"Open In Colab\"/></a>"
      ]
    },
    {
      "metadata": {
        "id": "QYWmevIvTDpR",
        "colab_type": "text"
      },
      "cell_type": "markdown",
      "source": [
        "# Advanced Certification in AIML\n",
        "## A Program by IIIT-H and TalentSprint"
      ]
    },
    {
      "metadata": {
        "id": "8kJ6TpvKTDpW",
        "colab_type": "text"
      },
      "cell_type": "markdown",
      "source": [
        "The objective of this experiment is to tune the hyper parameter called momentum and observe the output differences.\n",
        "\n",
        "We will use CIFAR100 dataset.This dataset is just like the CIFAR-10, except it has 100 classes containing 600 images each. There are 50,000 training images and 10,000 testing images. "
      ]
    },
    {
      "metadata": {
        "id": "VC-L7Q--TDpa",
        "colab_type": "text"
      },
      "cell_type": "markdown",
      "source": [
        "#### Keywords\n",
        "\n",
        "* Hyper Parameter\n",
        "* Momentum\n",
        "* CIFAR -100\n",
        "* Xavier intilization\n",
        "* Pooling\n",
        "* Cross Entropy Loss\n",
        "* convolutions"
      ]
    },
    {
      "metadata": {
        "id": "gtCKfq8iTDpb",
        "colab_type": "text"
      },
      "cell_type": "markdown",
      "source": [
        "#### Expected time to complete the experiment is : 90min"
      ]
    },
    {
      "metadata": {
        "id": "7M1Omx5AtelX",
        "colab_type": "code",
        "cellView": "form",
        "colab": {}
      },
      "cell_type": "code",
      "source": [
        "#@title Experiment Explanation Video\n",
        "from IPython.display import HTML\n",
        "\n",
        "HTML(\"\"\"<video width=\"800\" height=\"300\" controls>\n",
        "  <source src=\"https://cdn.talentsprint.com/talentsprint/archives/sc/aiml/aiml_2018_blr_b6/cfus/week_12/module_3_week_12_experiment_3.mp4\" type=\"video/mp4\">\n",
        "</video>\n",
        "\"\"\")"
      ],
      "execution_count": 0,
      "outputs": []
    },
    {
      "metadata": {
        "id": "EA7_mRWjTMck",
        "colab_type": "text"
      },
      "cell_type": "markdown",
      "source": [
        "### Setup Steps"
      ]
    },
    {
      "metadata": {
        "id": "GsFlN90fTPXR",
        "colab_type": "code",
        "colab": {}
      },
      "cell_type": "code",
      "source": [
        "#@title Please enter your registration id to start: (e.g. P181900101) { run: \"auto\", display-mode: \"form\" }\n",
        "Id = \"P181901560\" #@param {type:\"string\"}\n"
      ],
      "execution_count": 0,
      "outputs": []
    },
    {
      "metadata": {
        "id": "T7hrgzPmTTdw",
        "colab_type": "code",
        "colab": {}
      },
      "cell_type": "code",
      "source": [
        "#@title Please enter your password (normally your phone number) to continue: { run: \"auto\", display-mode: \"form\" }\n",
        "password = \"8093344507\" #@param {type:\"string\"}\n"
      ],
      "execution_count": 0,
      "outputs": []
    },
    {
      "metadata": {
        "id": "56P_9yhXK5XE",
        "colab_type": "code",
        "cellView": "form",
        "outputId": "bec16e41-3689-44ce-8142-632cd7594a6a",
        "colab": {
          "base_uri": "https://localhost:8080/",
          "height": 34
        }
      },
      "cell_type": "code",
      "source": [
        "#@title Run this cell to complete the setup for this Notebook\n",
        "\n",
        "from IPython import get_ipython\n",
        "ipython = get_ipython()\n",
        "  \n",
        "notebook=\"BLR_M3W12_SAT_EXP_3\" #name of the notebook\n",
        "\n",
        "def setup():\n",
        "#  ipython.magic(\"sx pip3 install torch\")\n",
        "    ipython.magic(\"sx pip3 install torch\")\n",
        "    ipython.magic(\"sx pip3 install torchvision\")\n",
        "    ipython.magic(\"sx wget https://cdn.talentsprint.com/aiml/Experiment_related_data/week9/Exp6/config.py\")\n",
        "    ipython.magic(\"sx wget https://cdn.talentsprint.com/aiml/Experiment_related_data/week9/Exp6/utils.py\")\n",
        "    print (\"Setup completed successfully\")\n",
        "   #print (\"Setup completed successfully\")\n",
        "    return\n",
        "\n",
        "def submit_notebook():\n",
        "    \n",
        "    ipython.magic(\"notebook -e \"+ notebook + \".ipynb\")\n",
        "    \n",
        "    import requests, json, base64, datetime\n",
        "\n",
        "    url = \"https://dashboard.talentsprint.com/xp/app/save_notebook_attempts\"\n",
        "    if not submission_id:\n",
        "      data = {\"id\" : getId(), \"notebook\" : notebook, \"mobile\" : getPassword()}\n",
        "      r = requests.post(url, data = data)\n",
        "      r = json.loads(r.text)\n",
        "\n",
        "      if r[\"status\"] == \"Success\":\n",
        "          return r[\"record_id\"]\n",
        "      elif \"err\" in r:        \n",
        "        print(r[\"err\"])\n",
        "        return None        \n",
        "      else:\n",
        "        print (\"Something is wrong, the notebook will not be submitted for grading\")\n",
        "        return None\n",
        "\n",
        "    elif getComplexity() and getAdditional() and getConcepts():\n",
        "      f = open(notebook + \".ipynb\", \"rb\")\n",
        "      file_hash = base64.b64encode(f.read())\n",
        "\n",
        "      data = {\"complexity\" : Complexity, \"additional\" :Additional, \n",
        "              \"concepts\" : Concepts, \"record_id\" : submission_id, \n",
        "              \"id\" : Id, \"file_hash\" : file_hash, \"notebook\" : notebook}\n",
        "\n",
        "      r = requests.post(url, data = data)\n",
        "      print(\"Your submission is successful.\")\n",
        "      print(\"Ref Id:\", submission_id)\n",
        "      print(\"Date of submission: \", datetime.datetime.now().date().strftime(\"%d %b %Y\"))\n",
        "      print(\"Time of submission: \", datetime.datetime.now().time().strftime(\"%H:%M:%S\"))\n",
        "      print(\"View your submissions: https://iiith-aiml.talentsprint.com/notebook_submissions\")\n",
        "      print(\"For any queries/discrepancies, please connect with mentors through the chat icon in LMS dashboard.\")\n",
        "      return submission_id\n",
        "    else: submission_id\n",
        "    \n",
        "\n",
        "def getAdditional():\n",
        "  try:\n",
        "    if Additional: return Additional      \n",
        "    else: raise NameError('')\n",
        "  except NameError:\n",
        "    print (\"Please answer Additional Question\")\n",
        "    return None\n",
        "\n",
        "def getComplexity():\n",
        "  try:\n",
        "    return Complexity\n",
        "  except NameError:\n",
        "    print (\"Please answer Complexity Question\")\n",
        "    return None\n",
        "  \n",
        "def getConcepts():\n",
        "  try:\n",
        "    return Concepts\n",
        "  except NameError:\n",
        "    print (\"Please answer Concepts Question\")\n",
        "    return None\n",
        "\n",
        "def getId():\n",
        "  try: \n",
        "    return Id if Id else None\n",
        "  except NameError:\n",
        "    return None\n",
        "\n",
        "def getPassword():\n",
        "  try:\n",
        "    return password if password else None\n",
        "  except NameError:\n",
        "    return None\n",
        "\n",
        "submission_id = None\n",
        "### Setup \n",
        "if getPassword() and getId():\n",
        "  submission_id = submit_notebook()\n",
        "  if submission_id:\n",
        "    setup()\n",
        "  \n",
        "else:\n",
        "  print (\"Please complete Id and Password cells before running setup\")\n",
        "\n"
      ],
      "execution_count": 0,
      "outputs": [
        {
          "output_type": "stream",
          "text": [
            "Setup completed successfully\n"
          ],
          "name": "stdout"
        }
      ]
    },
    {
      "metadata": {
        "id": "IFzdcJA2TDpd",
        "colab_type": "text"
      },
      "cell_type": "markdown",
      "source": [
        "**Importing required packages**"
      ]
    },
    {
      "metadata": {
        "id": "v_3rHeQhTDpj",
        "colab_type": "code",
        "colab": {}
      },
      "cell_type": "code",
      "source": [
        "# Importing pytorch packages\n",
        "import torch\n",
        "import torch.nn as nn\n",
        "import torch.optim as optim\n",
        "import torch.nn.functional as F\n",
        "import torch.backends.cudnn as cudnn\n",
        "import torchvision\n",
        "import torchvision.transforms as transforms\n",
        "from torch.autograd import Variable\n",
        "# Importing config.py file\n",
        "import config as cf\n",
        "from utils import *\n",
        "## Importing python packages\n",
        "import os\n",
        "import sys\n",
        "import time\n",
        "import datetime\n",
        "import numpy as np\n",
        "import math\n",
        "import matplotlib.pyplot as plt"
      ],
      "execution_count": 0,
      "outputs": []
    },
    {
      "metadata": {
        "id": "ZCUpCR1JTDpo",
        "colab_type": "code",
        "colab": {}
      },
      "cell_type": "code",
      "source": [
        "# Checking for GPU instance\n",
        "device = torch.device(\"cuda:0\" if torch.cuda.is_available() else \"cpu\")\n",
        "#Intilizaing the accuracy value as zero\n",
        "best_acc = 0"
      ],
      "execution_count": 0,
      "outputs": []
    },
    {
      "metadata": {
        "id": "HiiOuYoDTDps",
        "colab_type": "text"
      },
      "cell_type": "markdown",
      "source": [
        "#### Preparing the dataset"
      ]
    },
    {
      "metadata": {
        "id": "CqJY6GjbTDpt",
        "colab_type": "code",
        "outputId": "4d63516f-0d25-4312-a09e-b8514d484217",
        "colab": {
          "base_uri": "https://localhost:8080/",
          "height": 52
        }
      },
      "cell_type": "code",
      "source": [
        "print('\\n[Phase 1] : Data Preparation')\n",
        "\n",
        "##dataset\n",
        "dataset = 'cifar100'\n",
        "\n",
        "# Preparing the dataset\n",
        "transform_train = transforms.Compose([\n",
        "    transforms.RandomCrop(32, padding=4),\n",
        "    transforms.RandomHorizontalFlip(),\n",
        "    transforms.ToTensor(),\n",
        "    transforms.Normalize(cf.mean[dataset], cf.std[dataset]),\n",
        "]) # meanstd transformation"
      ],
      "execution_count": 0,
      "outputs": [
        {
          "output_type": "stream",
          "text": [
            "\n",
            "[Phase 1] : Data Preparation\n"
          ],
          "name": "stdout"
        }
      ]
    },
    {
      "metadata": {
        "id": "KHUzmMWvTDp0",
        "colab_type": "text"
      },
      "cell_type": "markdown",
      "source": [
        "#### Applying the standard mean"
      ]
    },
    {
      "metadata": {
        "id": "BC6X9Y9wTDp1",
        "colab_type": "code",
        "colab": {}
      },
      "cell_type": "code",
      "source": [
        "transform_test = transforms.Compose([\n",
        "    transforms.ToTensor(),\n",
        "    transforms.Normalize(cf.mean[dataset], cf.std[dataset]),\n",
        "])"
      ],
      "execution_count": 0,
      "outputs": []
    },
    {
      "metadata": {
        "id": "GgQYaTkyTDp5",
        "colab_type": "text"
      },
      "cell_type": "markdown",
      "source": [
        "#### Downloading and Loading the dataset\n",
        "\n",
        "The torchvision package consists of popular datasets, model architectures, and common image transformations for computer vision.\n"
      ]
    },
    {
      "metadata": {
        "id": "9NIPyVNwTDp6",
        "colab_type": "code",
        "colab": {}
      },
      "cell_type": "code",
      "source": [
        "# number of classes in the dataset\n",
        "num_classes = 100"
      ],
      "execution_count": 0,
      "outputs": []
    },
    {
      "metadata": {
        "id": "4NKFYS4vTDp_",
        "colab_type": "code",
        "outputId": "bcb5a197-86d8-4218-9f20-b52a7e34a1cb",
        "colab": {
          "base_uri": "https://localhost:8080/",
          "height": 34
        }
      },
      "cell_type": "code",
      "source": [
        "### Downloading the dataset\n",
        "trainset = torchvision.datasets.CIFAR100(root='data', train=True, download=True, transform=transform_train)\n",
        "testset = torchvision.datasets.CIFAR100(root='data', train=False, download=False, transform=transform_test)\n",
        "### Loading the dataset \n",
        "trainloader = torch.utils.data.DataLoader(trainset, batch_size=128, shuffle=True, num_workers=8)\n",
        "testloader = torch.utils.data.DataLoader(testset, batch_size=100, shuffle=False, num_workers=8)\n"
      ],
      "execution_count": 0,
      "outputs": [
        {
          "output_type": "stream",
          "text": [
            "Files already downloaded and verified\n"
          ],
          "name": "stdout"
        }
      ]
    },
    {
      "metadata": {
        "id": "UzEYmhJLTDqE",
        "colab_type": "text"
      },
      "cell_type": "markdown",
      "source": [
        "#### Let us define the network"
      ]
    },
    {
      "metadata": {
        "id": "Xjme8iyjTDqF",
        "colab_type": "code",
        "colab": {}
      },
      "cell_type": "code",
      "source": [
        "import torch.nn as nn\n",
        "import torch.nn.functional as F\n",
        "\n",
        "        \n",
        "class LeNet(nn.Module):\n",
        "    def __init__(self, num_classes, init_mode='xavier'):  ### supports 'zero', 'normal', 'xavier', 'he' inits\n",
        "        super(LeNet, self).__init__()\n",
        "        self.conv1 = nn.Conv2d(3, 6, 5)\n",
        "        self.conv2 = nn.Conv2d(6, 16, 5)\n",
        "        self.fc1   = nn.Linear(16*5*5, 120)\n",
        "        self.fc2   = nn.Linear(120, 84)\n",
        "        self.fc3   = nn.Linear(84, num_classes)\n",
        "        \n",
        "        if init_mode == 'zero':\n",
        "            for m in self.modules():\n",
        "                if isinstance(m, nn.Conv2d) or isinstance(m, nn.Linear):\n",
        "                    m.weight.data.zero_()   ### fill tensor elements with zeros\n",
        "                    if m.bias is not None:\n",
        "                        m.bias.data.zero_()\n",
        "        \n",
        "        if init_mode == 'normal':\n",
        "            for m in self.modules():\n",
        "                if isinstance(m, nn.Conv2d) or isinstance(m, nn.Linear):\n",
        "                    m.weight.data.normal_()   ### fill tensor elements with random numbers from normal distribution\n",
        "                    if m.bias is not None:\n",
        "                        m.bias.data.normal_()\n",
        "        \n",
        "        if init_mode == 'xavier':\n",
        "            for m in self.modules():\n",
        "                if isinstance(m, nn.Conv2d):\n",
        "                    fan_out = m.kernel_size[0] * m.kernel_size[1] * m.out_channels\n",
        "                    fan_in = m.kernel_size[0] * m.kernel_size[1] * m.in_channels\n",
        "                    n = fan_in + fan_out\n",
        "                    m.weight.data.normal_(0, math.sqrt(2. / n))\n",
        "                    if m.bias is not None:\n",
        "                        m.bias.data.normal_(0, math.sqrt(2. / n))\n",
        "                if isinstance(m, nn.Linear):\n",
        "                    size = m.weight.size()\n",
        "                    fan_out = size[0] # number of rows\n",
        "                    fan_in = size[1] # number of columns\n",
        "                    variance = math.sqrt(2.0/(fan_in+fan_out))\n",
        "                    m.weight.data.normal_(0.0, variance)\n",
        "                    if m.bias is not None:\n",
        "                        m.bias.data.normal_(0, variance)\n",
        "        \n",
        "        if init_mode == 'he':\n",
        "            for m in self.modules():\n",
        "                if isinstance(m, nn.Conv2d):\n",
        "                    n = m.kernel_size[0] * m.kernel_size[1] * m.out_channels\n",
        "                    m.weight.data.normal_(0, math.sqrt(2. / n))\n",
        "                    if m.bias is not None:\n",
        "                        m.bias.data.normal_(0, math.sqrt(2. / n))\n",
        "                if isinstance(m, nn.Linear):\n",
        "                    size = m.weight.size()\n",
        "                    fan_out = size[0] # number of rows\n",
        "                    fan_in = size[1] # number of columns\n",
        "                    variance = math.sqrt(2.0/(fan_in))\n",
        "                    m.weight.data.normal_(0.0, variance)\n",
        "                    if m.bias is not None:\n",
        "                        m.bias.data.normal_(0, variance)\n",
        "                \n",
        "                \n",
        "    ## Forward Pass\n",
        "    def forward(self, x):\n",
        "        out = F.relu(self.conv1(x))\n",
        "        out = F.max_pool2d(out, 2)\n",
        "        out = F.relu(self.conv2(out))\n",
        "        out = F.max_pool2d(out, 2)\n",
        "        out = out.view(out.size(0), -1)\n",
        "        out = F.relu(self.fc1(out))\n",
        "        out = F.relu(self.fc2(out))\n",
        "        out = self.fc3(out)\n",
        "\n",
        "        return(out)"
      ],
      "execution_count": 0,
      "outputs": []
    },
    {
      "metadata": {
        "id": "VxoH_XmfTDqK",
        "colab_type": "text"
      },
      "cell_type": "markdown",
      "source": [
        "### Training with Xavier init"
      ]
    },
    {
      "metadata": {
        "id": "thScVAq9TDqK",
        "colab_type": "code",
        "colab": {}
      },
      "cell_type": "code",
      "source": [
        "## Calling the model\n",
        "net = LeNet(num_classes, init_mode='xavier')\n",
        "## Checking for GPU instance \n",
        "net = net.to(device)"
      ],
      "execution_count": 0,
      "outputs": []
    },
    {
      "metadata": {
        "id": "ZRQtQpXQTDqP",
        "colab_type": "code",
        "colab": {}
      },
      "cell_type": "code",
      "source": [
        "### Intiliazing the loss\n",
        "criterion = nn.CrossEntropyLoss()"
      ],
      "execution_count": 0,
      "outputs": []
    },
    {
      "metadata": {
        "id": "LiZgcgFuTDqT",
        "colab_type": "code",
        "colab": {}
      },
      "cell_type": "code",
      "source": [
        "def train(epoch):\n",
        "    print('\\nEpoch: %d' % epoch)\n",
        "    net.train()\n",
        "    # Declaring the Variables\n",
        "    train_loss = 0\n",
        "    correct = 0\n",
        "    total = 0\n",
        "    # Loopiing over train data\n",
        "    for batch_idx, (inputs, targets) in enumerate(trainloader):\n",
        "        # Checking for GPU instance\n",
        "        #if use_cuda:\n",
        "        inputs, targets = inputs.to(device), targets.to(device)\n",
        "        # Optimizer\n",
        "        optimizer.zero_grad()\n",
        "        # Converting inputs and targets into pytorch variables\n",
        "        #inputs, targets = Variable(inputs), Variable(targets)\n",
        "        # Forward Pass\n",
        "        outputs = net(inputs)\n",
        "        # Storing the outputs size\n",
        "        size_ = outputs.size()\n",
        "        # Reducing the dimenssion\n",
        "        outputs_ = outputs.view(size_[0], num_classes)\n",
        "        # Calculating the loss\n",
        "        loss = criterion(outputs_, targets)\n",
        "        # Backward Pass\n",
        "        loss.backward()\n",
        "        # Optimizer steps\n",
        "        optimizer.step()\n",
        "        ## Calculating the traqin loss\n",
        "        train_loss += loss.item()\n",
        "        # Predicting the values\n",
        "        _, predicted = torch.max(outputs_.data, 1)\n",
        "        # Storing the targets size\n",
        "        total += targets.size(0)\n",
        "        # Calculating the corrected values\n",
        "        correct += predicted.eq(targets.data).cpu().sum().item()\n",
        "        # Printing the data\n",
        "        if batch_idx%30 == 0 or batch_idx == len(trainloader)-1:\n",
        "            # Printing the progress bar\n",
        "            progress_bar(batch_idx, len(trainloader), 'Loss: %.3f | Acc: %.3f%% (%d/%d)'\n",
        "                         % (train_loss/(batch_idx+1), 100.*correct/total, correct, total))\n",
        "    # Storing number of epoch, loss and accuracy in a file\n",
        "    train_loss_file.write('%d %.3f %.3f\\n' %(epoch, train_loss/len(trainloader), 100.*correct/total))\n",
        "\n"
      ],
      "execution_count": 0,
      "outputs": []
    },
    {
      "metadata": {
        "id": "7KHXrvL_TDqX",
        "colab_type": "code",
        "colab": {}
      },
      "cell_type": "code",
      "source": [
        "def test(epoch):\n",
        "    global best_acc\n",
        "    net.eval()\n",
        "    # Declaring the variables\n",
        "    test_loss = 0\n",
        "    correct = 0\n",
        "    total = 0\n",
        "    # Looping over the test data\n",
        "    for batch_idx, (inputs, targets) in enumerate(testloader):\n",
        "        # Checking for GPU instance\n",
        "        #if use_cuda:\n",
        "        inputs, targets = inputs.to(device), targets.to(device)\n",
        "        ## Coverting inputs and targets intp pytorch variables\n",
        "        #inputs, targets = Variable(inputs, volatile=True), Variable(targets)\n",
        "        # Forward pass\n",
        "        outputs = net(inputs)\n",
        "        # Storing the size of outputs\n",
        "        size_ = outputs.size()\n",
        "        # Reducing the dimenssion\n",
        "        outputs_ = outputs.view(size_[0], num_classes)\n",
        "        # Calculating the loss\n",
        "        loss = criterion(outputs_, targets)\n",
        "        # Calculating the test loss\n",
        "        test_loss += loss.item()\n",
        "        # Predicted values\n",
        "        _, predicted = torch.max(outputs_.data, 1)\n",
        "        # Storing the size of targets\n",
        "        total += targets.size(0)\n",
        "        # Calculating the correct values\n",
        "        correct += predicted.eq(targets.data).cpu().sum().item()\n",
        "        # Printing the data\n",
        "        if batch_idx%30 == 0 or batch_idx == len(testloader)-1:\n",
        "            # printing the progress bar\n",
        "            progress_bar(batch_idx, len(testloader), 'Loss: %.3f | Acc: %.3f%% (%d/%d)'\n",
        "                         % (test_loss/(batch_idx+1), 100.*correct/total, correct, total))\n",
        "    # Printing the validation loss \n",
        "    print('val_loss: ',  test_loss/len(testloader), 'accuracy: ', 100.0*correct/total)\n",
        "    # Storing number of epoch,loss and acuracy in a file\n",
        "    val_loss_file.write('%d %.3f %.3f\\n' %(epoch,  test_loss/len(testloader), 100.*correct/total))\n",
        "\n",
        "    # Save checkpoint.\n",
        "    acc = 100.*correct/total\n",
        "    # Checking for best accuracy\n",
        "    if acc > best_acc:\n",
        "        print('Saving..')\n",
        "        state = {\n",
        "            'net': net,\n",
        "            'acc': acc,\n",
        "            'epoch': epoch,\n",
        "        }\n",
        "        # Checking for the directory\n",
        "        if not os.path.isdir('../checkpoint'):\n",
        "            # creating the directory\n",
        "            os.mkdir('../checkpoint')\n",
        "        # saving the data\n",
        "        torch.save(state, '../checkpoint_ckpt.t7')\n",
        "        # Storing the accuracy value\n",
        "        best_acc = acc"
      ],
      "execution_count": 0,
      "outputs": []
    },
    {
      "metadata": {
        "id": "nkgjZ2B-TDqd",
        "colab_type": "text"
      },
      "cell_type": "markdown",
      "source": [
        "### Training without momentum"
      ]
    },
    {
      "metadata": {
        "id": "82LN3du2TDqe",
        "colab_type": "code",
        "colab": {}
      },
      "cell_type": "code",
      "source": [
        "experiment = 'no_momentum'\n",
        "# Creating files in write mode\n",
        "train_loss_file = open(experiment+\"train_loss.txt\", \"w\")\n",
        "val_loss_file = open(experiment+\"val_loss.txt\", \"w\")"
      ],
      "execution_count": 0,
      "outputs": []
    },
    {
      "metadata": {
        "id": "dha64aWkTDql",
        "colab_type": "code",
        "outputId": "ef0fb874-e978-41a3-dd7d-e083d7b6ca01",
        "colab": {
          "base_uri": "https://localhost:8080/",
          "height": 3078
        }
      },
      "cell_type": "code",
      "source": [
        "# Optimizer\n",
        "optimizer = optim.SGD(net.parameters(), lr=0.01, momentum=0)\n",
        "# Training and Testing the model for 30 epochs\n",
        "for epoch in range(0, 30):\n",
        "    # Training the model\n",
        "    train(epoch)\n",
        "    # Testing the model\n",
        "    test(epoch)\n",
        "# Closing the values   \n",
        "train_loss_file.close()\n",
        "val_loss_file.close()"
      ],
      "execution_count": 0,
      "outputs": [
        {
          "output_type": "stream",
          "text": [
            "\n",
            "Epoch: 0\n",
            " [==================================>] | Loss: 4.602 | Acc: 1.274% (637/50000)  \b\b\b\b\b\b\b\b\b\b\b\b\b\b\b\b\b\b\b\b\b\b\b\b\b\b\b\b\b\b\b\b\b\b\b\b\b\b\b\b\b\b\b\b\b\b\b\b\b\b\b\b\b\b\b\b\b\b\b\b\b\b\b\b\b 391/391 \n",
            " [==================================>] | Loss: 4.569 | Acc: 1.940% (194/10000)  \b\b\b\b\b\b\b\b\b\b\b\b\b\b\b\b\b\b\b\b\b\b\b\b\b\b\b\b\b\b\b\b\b\b\b\b\b\b\b\b\b\b\b\b\b\b\b\b\b\b\b\b\b\b\b\b\b\b\b\b\b\b\b\b\b 100/100 \n",
            "val_loss:  4.569071531295776 accuracy:  1.94\n",
            "Saving..\n",
            "\n",
            "Epoch: 1\n"
          ],
          "name": "stdout"
        },
        {
          "output_type": "stream",
          "text": [
            "/usr/local/lib/python3.6/dist-packages/torch/serialization.py:250: UserWarning: Couldn't retrieve source code for container of type LeNet. It won't be checked for correctness upon loading.\n",
            "  \"type \" + obj.__name__ + \". It won't be checked \"\n"
          ],
          "name": "stderr"
        },
        {
          "output_type": "stream",
          "text": [
            " [==================================>] | Loss: 4.513 | Acc: 3.054% (1527/50000) \b\b\b\b\b\b\b\b\b\b\b\b\b\b\b\b\b\b\b\b\b\b\b\b\b\b\b\b\b\b\b\b\b\b\b\b\b\b\b\b\b\b\b\b\b\b\b\b\b\b\b\b\b\b\b\b\b\b\b\b\b\b\b\b\b 391/391 \n",
            " [==================================>] | Loss: 4.429 | Acc: 4.390% (439/10000)  \b\b\b\b\b\b\b\b\b\b\b\b\b\b\b\b\b\b\b\b\b\b\b\b\b\b\b\b\b\b\b\b\b\b\b\b\b\b\b\b\b\b\b\b\b\b\b\b\b\b\b\b\b\b\b\b\b\b\b\b\b\b\b\b\b 100/100 \n",
            "val_loss:  4.429259648323059 accuracy:  4.39\n",
            "Saving..\n",
            "\n",
            "Epoch: 2\n",
            " [==================================>] | Loss: 4.357 | Acc: 5.090% (2545/50000) \b\b\b\b\b\b\b\b\b\b\b\b\b\b\b\b\b\b\b\b\b\b\b\b\b\b\b\b\b\b\b\b\b\b\b\b\b\b\b\b\b\b\b\b\b\b\b\b\b\b\b\b\b\b\b\b\b\b\b\b\b\b\b\b\b 391/391 \n",
            " [==================================>] | Loss: 4.238 | Acc: 6.470% (647/10000)  \b\b\b\b\b\b\b\b\b\b\b\b\b\b\b\b\b\b\b\b\b\b\b\b\b\b\b\b\b\b\b\b\b\b\b\b\b\b\b\b\b\b\b\b\b\b\b\b\b\b\b\b\b\b\b\b\b\b\b\b\b\b\b\b\b 100/100 \n",
            "val_loss:  4.237873315811157 accuracy:  6.47\n",
            "Saving..\n",
            "\n",
            "Epoch: 3\n",
            " [==================================>] | Loss: 4.180 | Acc: 6.692% (3346/50000) \b\b\b\b\b\b\b\b\b\b\b\b\b\b\b\b\b\b\b\b\b\b\b\b\b\b\b\b\b\b\b\b\b\b\b\b\b\b\b\b\b\b\b\b\b\b\b\b\b\b\b\b\b\b\b\b\b\b\b\b\b\b\b\b\b 391/391 \n",
            " [==================================>] | Loss: 4.076 | Acc: 7.980% (798/10000)  \b\b\b\b\b\b\b\b\b\b\b\b\b\b\b\b\b\b\b\b\b\b\b\b\b\b\b\b\b\b\b\b\b\b\b\b\b\b\b\b\b\b\b\b\b\b\b\b\b\b\b\b\b\b\b\b\b\b\b\b\b\b\b\b\b 100/100 \n",
            "val_loss:  4.075925102233887 accuracy:  7.98\n",
            "Saving..\n",
            "\n",
            "Epoch: 4\n",
            " [==================================>] | Loss: 4.060 | Acc: 8.090% (4045/50000) \b\b\b\b\b\b\b\b\b\b\b\b\b\b\b\b\b\b\b\b\b\b\b\b\b\b\b\b\b\b\b\b\b\b\b\b\b\b\b\b\b\b\b\b\b\b\b\b\b\b\b\b\b\b\b\b\b\b\b\b\b\b\b\b\b 391/391 \n",
            " [==================================>] | Loss: 3.965 | Acc: 9.640% (964/10000)  \b\b\b\b\b\b\b\b\b\b\b\b\b\b\b\b\b\b\b\b\b\b\b\b\b\b\b\b\b\b\b\b\b\b\b\b\b\b\b\b\b\b\b\b\b\b\b\b\b\b\b\b\b\b\b\b\b\b\b\b\b\b\b\b\b 100/100 \n",
            "val_loss:  3.9652601790428164 accuracy:  9.64\n",
            "Saving..\n",
            "\n",
            "Epoch: 5\n",
            " [==================================>] | Loss: 3.977 | Acc: 9.312% (4656/50000) \b\b\b\b\b\b\b\b\b\b\b\b\b\b\b\b\b\b\b\b\b\b\b\b\b\b\b\b\b\b\b\b\b\b\b\b\b\b\b\b\b\b\b\b\b\b\b\b\b\b\b\b\b\b\b\b\b\b\b\b\b\b\b\b\b 391/391 \n",
            " [==================================>] | Loss: 3.882 | Acc: 10.820% (1082/10000)\b\b\b\b\b\b\b\b\b\b\b\b\b\b\b\b\b\b\b\b\b\b\b\b\b\b\b\b\b\b\b\b\b\b\b\b\b\b\b\b\b\b\b\b\b\b\b\b\b\b\b\b\b\b\b\b\b\b\b\b\b\b\b\b\b 100/100 \n",
            "val_loss:  3.882283329963684 accuracy:  10.82\n",
            "Saving..\n",
            "\n",
            "Epoch: 6\n",
            " [==================================>] | Loss: 3.912 | Acc: 10.218% (5109/50000)\b\b\b\b\b\b\b\b\b\b\b\b\b\b\b\b\b\b\b\b\b\b\b\b\b\b\b\b\b\b\b\b\b\b\b\b\b\b\b\b\b\b\b\b\b\b\b\b\b\b\b\b\b\b\b\b\b\b\b\b\b\b\b\b\b 391/391 \n",
            " [==================================>] | Loss: 3.833 | Acc: 11.520% (1152/10000)\b\b\b\b\b\b\b\b\b\b\b\b\b\b\b\b\b\b\b\b\b\b\b\b\b\b\b\b\b\b\b\b\b\b\b\b\b\b\b\b\b\b\b\b\b\b\b\b\b\b\b\b\b\b\b\b\b\b\b\b\b\b\b\b\b 100/100 \n",
            "val_loss:  3.8328464603424073 accuracy:  11.52\n",
            "Saving..\n",
            "\n",
            "Epoch: 7\n",
            " [==================================>] | Loss: 3.851 | Acc: 11.306% (5653/50000)\b\b\b\b\b\b\b\b\b\b\b\b\b\b\b\b\b\b\b\b\b\b\b\b\b\b\b\b\b\b\b\b\b\b\b\b\b\b\b\b\b\b\b\b\b\b\b\b\b\b\b\b\b\b\b\b\b\b\b\b\b\b\b\b\b 391/391 \n",
            " [==================================>] | Loss: 3.791 | Acc: 11.840% (1184/10000)\b\b\b\b\b\b\b\b\b\b\b\b\b\b\b\b\b\b\b\b\b\b\b\b\b\b\b\b\b\b\b\b\b\b\b\b\b\b\b\b\b\b\b\b\b\b\b\b\b\b\b\b\b\b\b\b\b\b\b\b\b\b\b\b\b 100/100 \n",
            "val_loss:  3.7910744953155517 accuracy:  11.84\n",
            "Saving..\n",
            "\n",
            "Epoch: 8\n",
            " [==================================>] | Loss: 3.802 | Acc: 11.996% (5998/50000)\b\b\b\b\b\b\b\b\b\b\b\b\b\b\b\b\b\b\b\b\b\b\b\b\b\b\b\b\b\b\b\b\b\b\b\b\b\b\b\b\b\b\b\b\b\b\b\b\b\b\b\b\b\b\b\b\b\b\b\b\b\b\b\b\b 391/391 \n",
            " [==================================>] | Loss: 3.720 | Acc: 13.630% (1363/10000)\b\b\b\b\b\b\b\b\b\b\b\b\b\b\b\b\b\b\b\b\b\b\b\b\b\b\b\b\b\b\b\b\b\b\b\b\b\b\b\b\b\b\b\b\b\b\b\b\b\b\b\b\b\b\b\b\b\b\b\b\b\b\b\b\b 100/100 \n",
            "val_loss:  3.720316481590271 accuracy:  13.63\n",
            "Saving..\n",
            "\n",
            "Epoch: 9\n",
            " [==================================>] | Loss: 3.756 | Acc: 12.920% (6460/50000)\b\b\b\b\b\b\b\b\b\b\b\b\b\b\b\b\b\b\b\b\b\b\b\b\b\b\b\b\b\b\b\b\b\b\b\b\b\b\b\b\b\b\b\b\b\b\b\b\b\b\b\b\b\b\b\b\b\b\b\b\b\b\b\b\b 391/391 \n",
            " [==================================>] | Loss: 3.663 | Acc: 14.770% (1477/10000)\b\b\b\b\b\b\b\b\b\b\b\b\b\b\b\b\b\b\b\b\b\b\b\b\b\b\b\b\b\b\b\b\b\b\b\b\b\b\b\b\b\b\b\b\b\b\b\b\b\b\b\b\b\b\b\b\b\b\b\b\b\b\b\b\b 100/100 \n",
            "val_loss:  3.663363401889801 accuracy:  14.77\n",
            "Saving..\n",
            "\n",
            "Epoch: 10\n",
            " [==================================>] | Loss: 3.714 | Acc: 13.552% (6776/50000)\b\b\b\b\b\b\b\b\b\b\b\b\b\b\b\b\b\b\b\b\b\b\b\b\b\b\b\b\b\b\b\b\b\b\b\b\b\b\b\b\b\b\b\b\b\b\b\b\b\b\b\b\b\b\b\b\b\b\b\b\b\b\b\b\b 391/391 \n",
            " [==================================>] | Loss: 3.651 | Acc: 14.860% (1486/10000)\b\b\b\b\b\b\b\b\b\b\b\b\b\b\b\b\b\b\b\b\b\b\b\b\b\b\b\b\b\b\b\b\b\b\b\b\b\b\b\b\b\b\b\b\b\b\b\b\b\b\b\b\b\b\b\b\b\b\b\b\b\b\b\b\b 100/100 \n",
            "val_loss:  3.650803818702698 accuracy:  14.86\n",
            "Saving..\n",
            "\n",
            "Epoch: 11\n",
            " [==================================>] | Loss: 3.672 | Acc: 14.240% (7120/50000)\b\b\b\b\b\b\b\b\b\b\b\b\b\b\b\b\b\b\b\b\b\b\b\b\b\b\b\b\b\b\b\b\b\b\b\b\b\b\b\b\b\b\b\b\b\b\b\b\b\b\b\b\b\b\b\b\b\b\b\b\b\b\b\b\b 391/391 \n",
            " [==================================>] | Loss: 3.605 | Acc: 15.340% (1534/10000)\b\b\b\b\b\b\b\b\b\b\b\b\b\b\b\b\b\b\b\b\b\b\b\b\b\b\b\b\b\b\b\b\b\b\b\b\b\b\b\b\b\b\b\b\b\b\b\b\b\b\b\b\b\b\b\b\b\b\b\b\b\b\b\b\b 100/100 \n",
            "val_loss:  3.6052071809768678 accuracy:  15.34\n",
            "Saving..\n",
            "\n",
            "Epoch: 12\n",
            " [==================================>] | Loss: 3.630 | Acc: 14.692% (7346/50000)\b\b\b\b\b\b\b\b\b\b\b\b\b\b\b\b\b\b\b\b\b\b\b\b\b\b\b\b\b\b\b\b\b\b\b\b\b\b\b\b\b\b\b\b\b\b\b\b\b\b\b\b\b\b\b\b\b\b\b\b\b\b\b\b\b 391/391 \n",
            " [==================================>] | Loss: 3.541 | Acc: 16.900% (1690/10000)\b\b\b\b\b\b\b\b\b\b\b\b\b\b\b\b\b\b\b\b\b\b\b\b\b\b\b\b\b\b\b\b\b\b\b\b\b\b\b\b\b\b\b\b\b\b\b\b\b\b\b\b\b\b\b\b\b\b\b\b\b\b\b\b\b 100/100 \n",
            "val_loss:  3.540806255340576 accuracy:  16.9\n",
            "Saving..\n",
            "\n",
            "Epoch: 13\n",
            " [==================================>] | Loss: 3.593 | Acc: 15.542% (7771/50000)\b\b\b\b\b\b\b\b\b\b\b\b\b\b\b\b\b\b\b\b\b\b\b\b\b\b\b\b\b\b\b\b\b\b\b\b\b\b\b\b\b\b\b\b\b\b\b\b\b\b\b\b\b\b\b\b\b\b\b\b\b\b\b\b\b 391/391 \n",
            " [==================================>] | Loss: 3.511 | Acc: 17.290% (1729/10000)\b\b\b\b\b\b\b\b\b\b\b\b\b\b\b\b\b\b\b\b\b\b\b\b\b\b\b\b\b\b\b\b\b\b\b\b\b\b\b\b\b\b\b\b\b\b\b\b\b\b\b\b\b\b\b\b\b\b\b\b\b\b\b\b\b 100/100 \n",
            "val_loss:  3.5111900901794435 accuracy:  17.29\n",
            "Saving..\n",
            "\n",
            "Epoch: 14\n",
            " [==================================>] | Loss: 3.556 | Acc: 16.054% (8027/50000)\b\b\b\b\b\b\b\b\b\b\b\b\b\b\b\b\b\b\b\b\b\b\b\b\b\b\b\b\b\b\b\b\b\b\b\b\b\b\b\b\b\b\b\b\b\b\b\b\b\b\b\b\b\b\b\b\b\b\b\b\b\b\b\b\b 391/391 \n",
            " [==================================>] | Loss: 3.478 | Acc: 17.630% (1763/10000)\b\b\b\b\b\b\b\b\b\b\b\b\b\b\b\b\b\b\b\b\b\b\b\b\b\b\b\b\b\b\b\b\b\b\b\b\b\b\b\b\b\b\b\b\b\b\b\b\b\b\b\b\b\b\b\b\b\b\b\b\b\b\b\b\b 100/100 \n",
            "val_loss:  3.4780838894844055 accuracy:  17.63\n",
            "Saving..\n",
            "\n",
            "Epoch: 15\n",
            " [==================================>] | Loss: 3.523 | Acc: 16.826% (8413/50000)\b\b\b\b\b\b\b\b\b\b\b\b\b\b\b\b\b\b\b\b\b\b\b\b\b\b\b\b\b\b\b\b\b\b\b\b\b\b\b\b\b\b\b\b\b\b\b\b\b\b\b\b\b\b\b\b\b\b\b\b\b\b\b\b\b 391/391 \n",
            " [==================================>] | Loss: 3.451 | Acc: 17.310% (1731/10000)\b\b\b\b\b\b\b\b\b\b\b\b\b\b\b\b\b\b\b\b\b\b\b\b\b\b\b\b\b\b\b\b\b\b\b\b\b\b\b\b\b\b\b\b\b\b\b\b\b\b\b\b\b\b\b\b\b\b\b\b\b\b\b\b\b 100/100 \n",
            "val_loss:  3.451450831890106 accuracy:  17.31\n",
            "\n",
            "Epoch: 16\n",
            " [==================================>] | Loss: 3.496 | Acc: 17.124% (8562/50000)\b\b\b\b\b\b\b\b\b\b\b\b\b\b\b\b\b\b\b\b\b\b\b\b\b\b\b\b\b\b\b\b\b\b\b\b\b\b\b\b\b\b\b\b\b\b\b\b\b\b\b\b\b\b\b\b\b\b\b\b\b\b\b\b\b 391/391 \n",
            " [==================================>] | Loss: 3.415 | Acc: 19.170% (1917/10000)\b\b\b\b\b\b\b\b\b\b\b\b\b\b\b\b\b\b\b\b\b\b\b\b\b\b\b\b\b\b\b\b\b\b\b\b\b\b\b\b\b\b\b\b\b\b\b\b\b\b\b\b\b\b\b\b\b\b\b\b\b\b\b\b\b 100/100 \n",
            "val_loss:  3.415004863739014 accuracy:  19.17\n",
            "Saving..\n",
            "\n",
            "Epoch: 17\n",
            " [==================================>] | Loss: 3.468 | Acc: 17.564% (8782/50000)\b\b\b\b\b\b\b\b\b\b\b\b\b\b\b\b\b\b\b\b\b\b\b\b\b\b\b\b\b\b\b\b\b\b\b\b\b\b\b\b\b\b\b\b\b\b\b\b\b\b\b\b\b\b\b\b\b\b\b\b\b\b\b\b\b 391/391 \n",
            " [==================================>] | Loss: 3.425 | Acc: 18.410% (1841/10000)\b\b\b\b\b\b\b\b\b\b\b\b\b\b\b\b\b\b\b\b\b\b\b\b\b\b\b\b\b\b\b\b\b\b\b\b\b\b\b\b\b\b\b\b\b\b\b\b\b\b\b\b\b\b\b\b\b\b\b\b\b\b\b\b\b 100/100 \n",
            "val_loss:  3.425339226722717 accuracy:  18.41\n",
            "\n",
            "Epoch: 18\n",
            " [==================================>] | Loss: 3.440 | Acc: 17.892% (8946/50000)\b\b\b\b\b\b\b\b\b\b\b\b\b\b\b\b\b\b\b\b\b\b\b\b\b\b\b\b\b\b\b\b\b\b\b\b\b\b\b\b\b\b\b\b\b\b\b\b\b\b\b\b\b\b\b\b\b\b\b\b\b\b\b\b\b 391/391 \n",
            " [==================================>] | Loss: 3.436 | Acc: 18.170% (1817/10000)\b\b\b\b\b\b\b\b\b\b\b\b\b\b\b\b\b\b\b\b\b\b\b\b\b\b\b\b\b\b\b\b\b\b\b\b\b\b\b\b\b\b\b\b\b\b\b\b\b\b\b\b\b\b\b\b\b\b\b\b\b\b\b\b\b 100/100 \n",
            "val_loss:  3.435852816104889 accuracy:  18.17\n",
            "\n",
            "Epoch: 19\n",
            " [==================================>] | Loss: 3.414 | Acc: 18.312% (9156/50000)\b\b\b\b\b\b\b\b\b\b\b\b\b\b\b\b\b\b\b\b\b\b\b\b\b\b\b\b\b\b\b\b\b\b\b\b\b\b\b\b\b\b\b\b\b\b\b\b\b\b\b\b\b\b\b\b\b\b\b\b\b\b\b\b\b 391/391 \n",
            " [==================================>] | Loss: 3.338 | Acc: 19.490% (1949/10000)\b\b\b\b\b\b\b\b\b\b\b\b\b\b\b\b\b\b\b\b\b\b\b\b\b\b\b\b\b\b\b\b\b\b\b\b\b\b\b\b\b\b\b\b\b\b\b\b\b\b\b\b\b\b\b\b\b\b\b\b\b\b\b\b\b 100/100 \n",
            "val_loss:  3.338426229953766 accuracy:  19.49\n",
            "Saving..\n",
            "\n",
            "Epoch: 20\n",
            " [==================================>] | Loss: 3.387 | Acc: 19.040% (9520/50000)\b\b\b\b\b\b\b\b\b\b\b\b\b\b\b\b\b\b\b\b\b\b\b\b\b\b\b\b\b\b\b\b\b\b\b\b\b\b\b\b\b\b\b\b\b\b\b\b\b\b\b\b\b\b\b\b\b\b\b\b\b\b\b\b\b 391/391 \n",
            " [==================================>] | Loss: 3.321 | Acc: 20.220% (2022/10000)\b\b\b\b\b\b\b\b\b\b\b\b\b\b\b\b\b\b\b\b\b\b\b\b\b\b\b\b\b\b\b\b\b\b\b\b\b\b\b\b\b\b\b\b\b\b\b\b\b\b\b\b\b\b\b\b\b\b\b\b\b\b\b\b\b 100/100 \n",
            "val_loss:  3.3210497736930846 accuracy:  20.22\n",
            "Saving..\n",
            "\n",
            "Epoch: 21\n",
            " [==================================>] | Loss: 3.367 | Acc: 19.244% (9622/50000)\b\b\b\b\b\b\b\b\b\b\b\b\b\b\b\b\b\b\b\b\b\b\b\b\b\b\b\b\b\b\b\b\b\b\b\b\b\b\b\b\b\b\b\b\b\b\b\b\b\b\b\b\b\b\b\b\b\b\b\b\b\b\b\b\b 391/391 \n",
            " [==================================>] | Loss: 3.279 | Acc: 20.900% (2090/10000)\b\b\b\b\b\b\b\b\b\b\b\b\b\b\b\b\b\b\b\b\b\b\b\b\b\b\b\b\b\b\b\b\b\b\b\b\b\b\b\b\b\b\b\b\b\b\b\b\b\b\b\b\b\b\b\b\b\b\b\b\b\b\b\b\b 100/100 \n",
            "val_loss:  3.2787404465675354 accuracy:  20.9\n",
            "Saving..\n",
            "\n",
            "Epoch: 22\n",
            " [==================================>] | Loss: 3.344 | Acc: 19.340% (9670/50000)\b\b\b\b\b\b\b\b\b\b\b\b\b\b\b\b\b\b\b\b\b\b\b\b\b\b\b\b\b\b\b\b\b\b\b\b\b\b\b\b\b\b\b\b\b\b\b\b\b\b\b\b\b\b\b\b\b\b\b\b\b\b\b\b\b 391/391 \n",
            " [==================================>] | Loss: 3.246 | Acc: 21.620% (2162/10000)\b\b\b\b\b\b\b\b\b\b\b\b\b\b\b\b\b\b\b\b\b\b\b\b\b\b\b\b\b\b\b\b\b\b\b\b\b\b\b\b\b\b\b\b\b\b\b\b\b\b\b\b\b\b\b\b\b\b\b\b\b\b\b\b\b 100/100 \n",
            "val_loss:  3.245743680000305 accuracy:  21.62\n",
            "Saving..\n",
            "\n",
            "Epoch: 23\n",
            " [==================================>] | Loss: 3.326 | Acc: 19.954% (9977/50000)\b\b\b\b\b\b\b\b\b\b\b\b\b\b\b\b\b\b\b\b\b\b\b\b\b\b\b\b\b\b\b\b\b\b\b\b\b\b\b\b\b\b\b\b\b\b\b\b\b\b\b\b\b\b\b\b\b\b\b\b\b\b\b\b\b 391/391 \n",
            " [==================================>] | Loss: 3.233 | Acc: 22.160% (2216/10000)\b\b\b\b\b\b\b\b\b\b\b\b\b\b\b\b\b\b\b\b\b\b\b\b\b\b\b\b\b\b\b\b\b\b\b\b\b\b\b\b\b\b\b\b\b\b\b\b\b\b\b\b\b\b\b\b\b\b\b\b\b\b\b\b\b 100/100 \n",
            "val_loss:  3.2329766368865966 accuracy:  22.16\n",
            "Saving..\n",
            "\n",
            "Epoch: 24\n",
            " [==================================>] | Loss: 3.303 | Acc: 20.490% (10245/50000)\b\b\b\b\b\b\b\b\b\b\b\b\b\b\b\b\b\b\b\b\b\b\b\b\b\b\b\b\b\b\b\b\b\b\b\b\b\b\b\b\b\b\b\b\b\b\b\b\b\b\b\b\b\b\b\b\b\b\b\b\b\b\b\b\b 391/391 \n",
            " [==================================>] | Loss: 3.212 | Acc: 22.810% (2281/10000)\b\b\b\b\b\b\b\b\b\b\b\b\b\b\b\b\b\b\b\b\b\b\b\b\b\b\b\b\b\b\b\b\b\b\b\b\b\b\b\b\b\b\b\b\b\b\b\b\b\b\b\b\b\b\b\b\b\b\b\b\b\b\b\b\b 100/100 \n",
            "val_loss:  3.2120278239250184 accuracy:  22.81\n",
            "Saving..\n",
            "\n",
            "Epoch: 25\n",
            " [==================================>] | Loss: 3.290 | Acc: 20.540% (10270/50000)\b\b\b\b\b\b\b\b\b\b\b\b\b\b\b\b\b\b\b\b\b\b\b\b\b\b\b\b\b\b\b\b\b\b\b\b\b\b\b\b\b\b\b\b\b\b\b\b\b\b\b\b\b\b\b\b\b\b\b\b\b\b\b\b\b 391/391 \n",
            " [==================================>] | Loss: 3.252 | Acc: 21.600% (2160/10000)\b\b\b\b\b\b\b\b\b\b\b\b\b\b\b\b\b\b\b\b\b\b\b\b\b\b\b\b\b\b\b\b\b\b\b\b\b\b\b\b\b\b\b\b\b\b\b\b\b\b\b\b\b\b\b\b\b\b\b\b\b\b\b\b\b 100/100 \n",
            "val_loss:  3.2520912146568297 accuracy:  21.6\n",
            "\n",
            "Epoch: 26\n",
            " [==================================>] | Loss: 3.272 | Acc: 20.744% (10372/50000)\b\b\b\b\b\b\b\b\b\b\b\b\b\b\b\b\b\b\b\b\b\b\b\b\b\b\b\b\b\b\b\b\b\b\b\b\b\b\b\b\b\b\b\b\b\b\b\b\b\b\b\b\b\b\b\b\b\b\b\b\b\b\b\b\b 391/391 \n",
            " [==================================>] | Loss: 3.201 | Acc: 22.620% (2262/10000)\b\b\b\b\b\b\b\b\b\b\b\b\b\b\b\b\b\b\b\b\b\b\b\b\b\b\b\b\b\b\b\b\b\b\b\b\b\b\b\b\b\b\b\b\b\b\b\b\b\b\b\b\b\b\b\b\b\b\b\b\b\b\b\b\b 100/100 \n",
            "val_loss:  3.200999689102173 accuracy:  22.62\n",
            "\n",
            "Epoch: 27\n",
            " [==================================>] | Loss: 3.255 | Acc: 21.196% (10598/50000)\b\b\b\b\b\b\b\b\b\b\b\b\b\b\b\b\b\b\b\b\b\b\b\b\b\b\b\b\b\b\b\b\b\b\b\b\b\b\b\b\b\b\b\b\b\b\b\b\b\b\b\b\b\b\b\b\b\b\b\b\b\b\b\b\b 391/391 \n",
            " [==================================>] | Loss: 3.167 | Acc: 23.070% (2307/10000)\b\b\b\b\b\b\b\b\b\b\b\b\b\b\b\b\b\b\b\b\b\b\b\b\b\b\b\b\b\b\b\b\b\b\b\b\b\b\b\b\b\b\b\b\b\b\b\b\b\b\b\b\b\b\b\b\b\b\b\b\b\b\b\b\b 100/100 \n",
            "val_loss:  3.1669480633735656 accuracy:  23.07\n",
            "Saving..\n",
            "\n",
            "Epoch: 28\n",
            " [==================================>] | Loss: 3.235 | Acc: 21.504% (10752/50000)\b\b\b\b\b\b\b\b\b\b\b\b\b\b\b\b\b\b\b\b\b\b\b\b\b\b\b\b\b\b\b\b\b\b\b\b\b\b\b\b\b\b\b\b\b\b\b\b\b\b\b\b\b\b\b\b\b\b\b\b\b\b\b\b\b 391/391 \n",
            " [==================================>] | Loss: 3.158 | Acc: 23.500% (2350/10000)\b\b\b\b\b\b\b\b\b\b\b\b\b\b\b\b\b\b\b\b\b\b\b\b\b\b\b\b\b\b\b\b\b\b\b\b\b\b\b\b\b\b\b\b\b\b\b\b\b\b\b\b\b\b\b\b\b\b\b\b\b\b\b\b\b 100/100 \n",
            "val_loss:  3.1579599809646606 accuracy:  23.5\n",
            "Saving..\n",
            "\n",
            "Epoch: 29\n",
            " [==================================>] | Loss: 3.214 | Acc: 22.000% (11000/50000)\b\b\b\b\b\b\b\b\b\b\b\b\b\b\b\b\b\b\b\b\b\b\b\b\b\b\b\b\b\b\b\b\b\b\b\b\b\b\b\b\b\b\b\b\b\b\b\b\b\b\b\b\b\b\b\b\b\b\b\b\b\b\b\b\b 391/391 \n",
            " [==================================>] | Loss: 3.167 | Acc: 22.700% (2270/10000)\b\b\b\b\b\b\b\b\b\b\b\b\b\b\b\b\b\b\b\b\b\b\b\b\b\b\b\b\b\b\b\b\b\b\b\b\b\b\b\b\b\b\b\b\b\b\b\b\b\b\b\b\b\b\b\b\b\b\b\b\b\b\b\b\b 100/100 \n",
            "val_loss:  3.1674673342704773 accuracy:  22.7\n"
          ],
          "name": "stdout"
        }
      ]
    },
    {
      "metadata": {
        "id": "zg3AopZuTDqq",
        "colab_type": "text"
      },
      "cell_type": "markdown",
      "source": [
        "#### Plotting the Training curves"
      ]
    },
    {
      "metadata": {
        "id": "0mAj4OtMTDqr",
        "colab_type": "code",
        "outputId": "8b2e8a10-a721-445f-ed13-0c507aa6c22f",
        "colab": {
          "base_uri": "https://localhost:8080/",
          "height": 418
        }
      },
      "cell_type": "code",
      "source": [
        "training_curves(experiment)"
      ],
      "execution_count": 0,
      "outputs": [
        {
          "output_type": "stream",
          "text": [
            "30 30\n"
          ],
          "name": "stdout"
        },
        {
          "output_type": "display_data",
          "data": {
            "image/png": "[encoded data removed]",
            "text/plain": [
              "<Figure size 576x396 with 2 Axes>"
            ]
          },
          "metadata": {
            "tags": []
          }
        }
      ]
    },
    {
      "metadata": {
        "id": "tu87uO1fTDqw",
        "colab_type": "text"
      },
      "cell_type": "markdown",
      "source": [
        "### Training with momentum\n",
        "\n",
        "#### Note that momentum is 0 by default in pytorch"
      ]
    },
    {
      "metadata": {
        "id": "bh_4FXykTDqz",
        "colab_type": "code",
        "colab": {}
      },
      "cell_type": "code",
      "source": [
        "best_acc = 0\n",
        "# Calling the model\n",
        "net = LeNet(num_classes, init_mode='xavier')\n",
        "# Checking for GPU instance\n",
        "net = net.to(device)"
      ],
      "execution_count": 0,
      "outputs": []
    },
    {
      "metadata": {
        "id": "9ZOHn5ozTDq4",
        "colab_type": "code",
        "colab": {}
      },
      "cell_type": "code",
      "source": [
        "experiment = 'with_momentum'\n",
        "# Cretaing files in write mode\n",
        "train_loss_file = open(experiment+\"train_loss.txt\", \"w\")\n",
        "val_loss_file = open(experiment+\"val_loss.txt\", \"w\")"
      ],
      "execution_count": 0,
      "outputs": []
    },
    {
      "metadata": {
        "id": "_BPy7Sl4TDq_",
        "colab_type": "code",
        "outputId": "7e2d5ea5-bf4d-493f-c684-ef62e6207a3a",
        "colab": {
          "base_uri": "https://localhost:8080/",
          "height": 2957
        }
      },
      "cell_type": "code",
      "source": [
        "# Optimizer \n",
        "optimizer = optim.SGD(net.parameters(), lr=0.01, momentum=0.9)\n",
        "# Training and Testing the model for 30 epochs\n",
        "for epoch in range(0, 30):\n",
        "    # Training the model\n",
        "    train(epoch)\n",
        "    # Testing the model\n",
        "    test(epoch)\n",
        "# Closing the files\n",
        "train_loss_file.close()\n",
        "val_loss_file.close()"
      ],
      "execution_count": 0,
      "outputs": [
        {
          "output_type": "stream",
          "text": [
            "\n",
            "Epoch: 0\n",
            " [==================================>] | Loss: 4.323 | Acc: 4.498% (2249/50000) \b\b\b\b\b\b\b\b\b\b\b\b\b\b\b\b\b\b\b\b\b\b\b\b\b\b\b\b\b\b\b\b\b\b\b\b\b\b\b\b\b\b\b\b\b\b\b\b\b\b\b\b\b\b\b\b\b\b\b\b\b\b\b\b\b 391/391 \n",
            " [==================================>] | Loss: 3.953 | Acc: 10.000% (1000/10000)\b\b\b\b\b\b\b\b\b\b\b\b\b\b\b\b\b\b\b\b\b\b\b\b\b\b\b\b\b\b\b\b\b\b\b\b\b\b\b\b\b\b\b\b\b\b\b\b\b\b\b\b\b\b\b\b\b\b\b\b\b\b\b\b\b 100/100 \n",
            "val_loss:  3.95337028503418 accuracy:  10.0\n",
            "Saving..\n",
            "\n",
            "Epoch: 1\n"
          ],
          "name": "stdout"
        },
        {
          "output_type": "stream",
          "text": [
            "/usr/local/lib/python3.6/dist-packages/torch/serialization.py:250: UserWarning: Couldn't retrieve source code for container of type LeNet. It won't be checked for correctness upon loading.\n",
            "  \"type \" + obj.__name__ + \". It won't be checked \"\n"
          ],
          "name": "stderr"
        },
        {
          "output_type": "stream",
          "text": [
            " [==================================>] | Loss: 3.835 | Acc: 11.198% (5599/50000)\b\b\b\b\b\b\b\b\b\b\b\b\b\b\b\b\b\b\b\b\b\b\b\b\b\b\b\b\b\b\b\b\b\b\b\b\b\b\b\b\b\b\b\b\b\b\b\b\b\b\b\b\b\b\b\b\b\b\b\b\b\b\b\b\b 391/391 \n",
            " [==================================>] | Loss: 3.619 | Acc: 15.100% (1510/10000)\b\b\b\b\b\b\b\b\b\b\b\b\b\b\b\b\b\b\b\b\b\b\b\b\b\b\b\b\b\b\b\b\b\b\b\b\b\b\b\b\b\b\b\b\b\b\b\b\b\b\b\b\b\b\b\b\b\b\b\b\b\b\b\b\b 100/100 \n",
            "val_loss:  3.6189540457725524 accuracy:  15.1\n",
            "Saving..\n",
            "\n",
            "Epoch: 2\n",
            " [==================================>] | Loss: 3.612 | Acc: 15.046% (7523/50000)\b\b\b\b\b\b\b\b\b\b\b\b\b\b\b\b\b\b\b\b\b\b\b\b\b\b\b\b\b\b\b\b\b\b\b\b\b\b\b\b\b\b\b\b\b\b\b\b\b\b\b\b\b\b\b\b\b\b\b\b\b\b\b\b\b 391/391 \n",
            " [==================================>] | Loss: 3.469 | Acc: 17.530% (1753/10000)\b\b\b\b\b\b\b\b\b\b\b\b\b\b\b\b\b\b\b\b\b\b\b\b\b\b\b\b\b\b\b\b\b\b\b\b\b\b\b\b\b\b\b\b\b\b\b\b\b\b\b\b\b\b\b\b\b\b\b\b\b\b\b\b\b 100/100 \n",
            "val_loss:  3.4689165353775024 accuracy:  17.53\n",
            "Saving..\n",
            "\n",
            "Epoch: 3\n",
            " [==================================>] | Loss: 3.460 | Acc: 17.234% (8617/50000)\b\b\b\b\b\b\b\b\b\b\b\b\b\b\b\b\b\b\b\b\b\b\b\b\b\b\b\b\b\b\b\b\b\b\b\b\b\b\b\b\b\b\b\b\b\b\b\b\b\b\b\b\b\b\b\b\b\b\b\b\b\b\b\b\b 391/391 \n",
            " [==================================>] | Loss: 3.294 | Acc: 20.650% (2065/10000)\b\b\b\b\b\b\b\b\b\b\b\b\b\b\b\b\b\b\b\b\b\b\b\b\b\b\b\b\b\b\b\b\b\b\b\b\b\b\b\b\b\b\b\b\b\b\b\b\b\b\b\b\b\b\b\b\b\b\b\b\b\b\b\b\b 100/100 \n",
            "val_loss:  3.293955125808716 accuracy:  20.65\n",
            "Saving..\n",
            "\n",
            "Epoch: 4\n",
            " [==================================>] | Loss: 3.340 | Acc: 19.250% (9625/50000)\b\b\b\b\b\b\b\b\b\b\b\b\b\b\b\b\b\b\b\b\b\b\b\b\b\b\b\b\b\b\b\b\b\b\b\b\b\b\b\b\b\b\b\b\b\b\b\b\b\b\b\b\b\b\b\b\b\b\b\b\b\b\b\b\b 391/391 \n",
            " [==================================>] | Loss: 3.171 | Acc: 22.470% (2247/10000)\b\b\b\b\b\b\b\b\b\b\b\b\b\b\b\b\b\b\b\b\b\b\b\b\b\b\b\b\b\b\b\b\b\b\b\b\b\b\b\b\b\b\b\b\b\b\b\b\b\b\b\b\b\b\b\b\b\b\b\b\b\b\b\b\b 100/100 \n",
            "val_loss:  3.171495106220245 accuracy:  22.47\n",
            "Saving..\n",
            "\n",
            "Epoch: 5\n",
            " [==================================>] | Loss: 3.271 | Acc: 20.400% (10200/50000)\b\b\b\b\b\b\b\b\b\b\b\b\b\b\b\b\b\b\b\b\b\b\b\b\b\b\b\b\b\b\b\b\b\b\b\b\b\b\b\b\b\b\b\b\b\b\b\b\b\b\b\b\b\b\b\b\b\b\b\b\b\b\b\b\b 391/391 \n",
            " [==================================>] | Loss: 3.151 | Acc: 23.000% (2300/10000)\b\b\b\b\b\b\b\b\b\b\b\b\b\b\b\b\b\b\b\b\b\b\b\b\b\b\b\b\b\b\b\b\b\b\b\b\b\b\b\b\b\b\b\b\b\b\b\b\b\b\b\b\b\b\b\b\b\b\b\b\b\b\b\b\b 100/100 \n",
            "val_loss:  3.150756480693817 accuracy:  23.0\n",
            "Saving..\n",
            "\n",
            "Epoch: 6\n",
            " [==================================>] | Loss: 3.214 | Acc: 21.308% (10654/50000)\b\b\b\b\b\b\b\b\b\b\b\b\b\b\b\b\b\b\b\b\b\b\b\b\b\b\b\b\b\b\b\b\b\b\b\b\b\b\b\b\b\b\b\b\b\b\b\b\b\b\b\b\b\b\b\b\b\b\b\b\b\b\b\b\b 391/391 \n",
            " [==================================>] | Loss: 3.103 | Acc: 23.380% (2338/10000)\b\b\b\b\b\b\b\b\b\b\b\b\b\b\b\b\b\b\b\b\b\b\b\b\b\b\b\b\b\b\b\b\b\b\b\b\b\b\b\b\b\b\b\b\b\b\b\b\b\b\b\b\b\b\b\b\b\b\b\b\b\b\b\b\b 100/100 \n",
            "val_loss:  3.103464834690094 accuracy:  23.38\n",
            "Saving..\n",
            "\n",
            "Epoch: 7\n",
            " [==================================>] | Loss: 3.170 | Acc: 22.242% (11121/50000)\b\b\b\b\b\b\b\b\b\b\b\b\b\b\b\b\b\b\b\b\b\b\b\b\b\b\b\b\b\b\b\b\b\b\b\b\b\b\b\b\b\b\b\b\b\b\b\b\b\b\b\b\b\b\b\b\b\b\b\b\b\b\b\b\b 391/391 \n",
            " [==================================>] | Loss: 3.055 | Acc: 24.360% (2436/10000)\b\b\b\b\b\b\b\b\b\b\b\b\b\b\b\b\b\b\b\b\b\b\b\b\b\b\b\b\b\b\b\b\b\b\b\b\b\b\b\b\b\b\b\b\b\b\b\b\b\b\b\b\b\b\b\b\b\b\b\b\b\b\b\b\b 100/100 \n",
            "val_loss:  3.0550938653945923 accuracy:  24.36\n",
            "Saving..\n",
            "\n",
            "Epoch: 8\n",
            " [==================================>] | Loss: 3.125 | Acc: 23.090% (11545/50000)\b\b\b\b\b\b\b\b\b\b\b\b\b\b\b\b\b\b\b\b\b\b\b\b\b\b\b\b\b\b\b\b\b\b\b\b\b\b\b\b\b\b\b\b\b\b\b\b\b\b\b\b\b\b\b\b\b\b\b\b\b\b\b\b\b 391/391 \n",
            " [==================================>] | Loss: 3.082 | Acc: 23.690% (2369/10000)\b\b\b\b\b\b\b\b\b\b\b\b\b\b\b\b\b\b\b\b\b\b\b\b\b\b\b\b\b\b\b\b\b\b\b\b\b\b\b\b\b\b\b\b\b\b\b\b\b\b\b\b\b\b\b\b\b\b\b\b\b\b\b\b\b 100/100 \n",
            "val_loss:  3.082481253147125 accuracy:  23.69\n",
            "\n",
            "Epoch: 9\n",
            " [==================================>] | Loss: 3.100 | Acc: 23.484% (11742/50000)\b\b\b\b\b\b\b\b\b\b\b\b\b\b\b\b\b\b\b\b\b\b\b\b\b\b\b\b\b\b\b\b\b\b\b\b\b\b\b\b\b\b\b\b\b\b\b\b\b\b\b\b\b\b\b\b\b\b\b\b\b\b\b\b\b 391/391 \n",
            " [==================================>] | Loss: 2.970 | Acc: 25.910% (2591/10000)\b\b\b\b\b\b\b\b\b\b\b\b\b\b\b\b\b\b\b\b\b\b\b\b\b\b\b\b\b\b\b\b\b\b\b\b\b\b\b\b\b\b\b\b\b\b\b\b\b\b\b\b\b\b\b\b\b\b\b\b\b\b\b\b\b 100/100 \n",
            "val_loss:  2.9700418162345885 accuracy:  25.91\n",
            "Saving..\n",
            "\n",
            "Epoch: 10\n",
            " [==================================>] | Loss: 3.069 | Acc: 24.194% (12097/50000)\b\b\b\b\b\b\b\b\b\b\b\b\b\b\b\b\b\b\b\b\b\b\b\b\b\b\b\b\b\b\b\b\b\b\b\b\b\b\b\b\b\b\b\b\b\b\b\b\b\b\b\b\b\b\b\b\b\b\b\b\b\b\b\b\b 391/391 \n",
            " [==================================>] | Loss: 2.980 | Acc: 26.090% (2609/10000)\b\b\b\b\b\b\b\b\b\b\b\b\b\b\b\b\b\b\b\b\b\b\b\b\b\b\b\b\b\b\b\b\b\b\b\b\b\b\b\b\b\b\b\b\b\b\b\b\b\b\b\b\b\b\b\b\b\b\b\b\b\b\b\b\b 100/100 \n",
            "val_loss:  2.9798865127563476 accuracy:  26.09\n",
            "Saving..\n",
            "\n",
            "Epoch: 11\n",
            " [==================================>] | Loss: 3.036 | Acc: 24.788% (12394/50000)\b\b\b\b\b\b\b\b\b\b\b\b\b\b\b\b\b\b\b\b\b\b\b\b\b\b\b\b\b\b\b\b\b\b\b\b\b\b\b\b\b\b\b\b\b\b\b\b\b\b\b\b\b\b\b\b\b\b\b\b\b\b\b\b\b 391/391 \n",
            " [==================================>] | Loss: 3.039 | Acc: 24.380% (2438/10000)\b\b\b\b\b\b\b\b\b\b\b\b\b\b\b\b\b\b\b\b\b\b\b\b\b\b\b\b\b\b\b\b\b\b\b\b\b\b\b\b\b\b\b\b\b\b\b\b\b\b\b\b\b\b\b\b\b\b\b\b\b\b\b\b\b 100/100 \n",
            "val_loss:  3.0387748885154724 accuracy:  24.38\n",
            "\n",
            "Epoch: 12\n",
            " [==================================>] | Loss: 3.023 | Acc: 24.896% (12448/50000)\b\b\b\b\b\b\b\b\b\b\b\b\b\b\b\b\b\b\b\b\b\b\b\b\b\b\b\b\b\b\b\b\b\b\b\b\b\b\b\b\b\b\b\b\b\b\b\b\b\b\b\b\b\b\b\b\b\b\b\b\b\b\b\b\b 391/391 \n",
            " [==================================>] | Loss: 2.922 | Acc: 27.150% (2715/10000)\b\b\b\b\b\b\b\b\b\b\b\b\b\b\b\b\b\b\b\b\b\b\b\b\b\b\b\b\b\b\b\b\b\b\b\b\b\b\b\b\b\b\b\b\b\b\b\b\b\b\b\b\b\b\b\b\b\b\b\b\b\b\b\b\b 100/100 \n",
            "val_loss:  2.9216249132156373 accuracy:  27.15\n",
            "Saving..\n",
            "\n",
            "Epoch: 13\n",
            " [==================================>] | Loss: 3.004 | Acc: 25.440% (12720/50000)\b\b\b\b\b\b\b\b\b\b\b\b\b\b\b\b\b\b\b\b\b\b\b\b\b\b\b\b\b\b\b\b\b\b\b\b\b\b\b\b\b\b\b\b\b\b\b\b\b\b\b\b\b\b\b\b\b\b\b\b\b\b\b\b\b 391/391 \n",
            " [==================================>] | Loss: 2.903 | Acc: 28.280% (2828/10000)\b\b\b\b\b\b\b\b\b\b\b\b\b\b\b\b\b\b\b\b\b\b\b\b\b\b\b\b\b\b\b\b\b\b\b\b\b\b\b\b\b\b\b\b\b\b\b\b\b\b\b\b\b\b\b\b\b\b\b\b\b\b\b\b\b 100/100 \n",
            "val_loss:  2.9027402997016907 accuracy:  28.28\n",
            "Saving..\n",
            "\n",
            "Epoch: 14\n",
            " [==================================>] | Loss: 2.974 | Acc: 25.996% (12998/50000)\b\b\b\b\b\b\b\b\b\b\b\b\b\b\b\b\b\b\b\b\b\b\b\b\b\b\b\b\b\b\b\b\b\b\b\b\b\b\b\b\b\b\b\b\b\b\b\b\b\b\b\b\b\b\b\b\b\b\b\b\b\b\b\b\b 391/391 \n",
            " [==================================>] | Loss: 3.027 | Acc: 26.070% (2607/10000)\b\b\b\b\b\b\b\b\b\b\b\b\b\b\b\b\b\b\b\b\b\b\b\b\b\b\b\b\b\b\b\b\b\b\b\b\b\b\b\b\b\b\b\b\b\b\b\b\b\b\b\b\b\b\b\b\b\b\b\b\b\b\b\b\b 100/100 \n",
            "val_loss:  3.0268379974365236 accuracy:  26.07\n",
            "\n",
            "Epoch: 15\n",
            " [==================================>] | Loss: 2.959 | Acc: 26.014% (13007/50000)\b\b\b\b\b\b\b\b\b\b\b\b\b\b\b\b\b\b\b\b\b\b\b\b\b\b\b\b\b\b\b\b\b\b\b\b\b\b\b\b\b\b\b\b\b\b\b\b\b\b\b\b\b\b\b\b\b\b\b\b\b\b\b\b\b 391/391 \n",
            " [==================================>] | Loss: 2.873 | Acc: 27.900% (2790/10000)\b\b\b\b\b\b\b\b\b\b\b\b\b\b\b\b\b\b\b\b\b\b\b\b\b\b\b\b\b\b\b\b\b\b\b\b\b\b\b\b\b\b\b\b\b\b\b\b\b\b\b\b\b\b\b\b\b\b\b\b\b\b\b\b\b 100/100 \n",
            "val_loss:  2.8728254628181458 accuracy:  27.9\n",
            "\n",
            "Epoch: 16\n",
            " [==================================>] | Loss: 2.943 | Acc: 26.306% (13153/50000)\b\b\b\b\b\b\b\b\b\b\b\b\b\b\b\b\b\b\b\b\b\b\b\b\b\b\b\b\b\b\b\b\b\b\b\b\b\b\b\b\b\b\b\b\b\b\b\b\b\b\b\b\b\b\b\b\b\b\b\b\b\b\b\b\b 391/391 \n",
            " [==================================>] | Loss: 2.899 | Acc: 28.170% (2817/10000)\b\b\b\b\b\b\b\b\b\b\b\b\b\b\b\b\b\b\b\b\b\b\b\b\b\b\b\b\b\b\b\b\b\b\b\b\b\b\b\b\b\b\b\b\b\b\b\b\b\b\b\b\b\b\b\b\b\b\b\b\b\b\b\b\b 100/100 \n",
            "val_loss:  2.8988510155677796 accuracy:  28.17\n",
            "\n",
            "Epoch: 17\n",
            " [==================================>] | Loss: 2.925 | Acc: 26.996% (13498/50000)\b\b\b\b\b\b\b\b\b\b\b\b\b\b\b\b\b\b\b\b\b\b\b\b\b\b\b\b\b\b\b\b\b\b\b\b\b\b\b\b\b\b\b\b\b\b\b\b\b\b\b\b\b\b\b\b\b\b\b\b\b\b\b\b\b 391/391 \n",
            " [==================================>] | Loss: 2.854 | Acc: 28.970% (2897/10000)\b\b\b\b\b\b\b\b\b\b\b\b\b\b\b\b\b\b\b\b\b\b\b\b\b\b\b\b\b\b\b\b\b\b\b\b\b\b\b\b\b\b\b\b\b\b\b\b\b\b\b\b\b\b\b\b\b\b\b\b\b\b\b\b\b 100/100 \n",
            "val_loss:  2.8537558627128603 accuracy:  28.97\n",
            "Saving..\n",
            "\n",
            "Epoch: 18\n",
            " [==================================>] | Loss: 2.909 | Acc: 27.184% (13592/50000)\b\b\b\b\b\b\b\b\b\b\b\b\b\b\b\b\b\b\b\b\b\b\b\b\b\b\b\b\b\b\b\b\b\b\b\b\b\b\b\b\b\b\b\b\b\b\b\b\b\b\b\b\b\b\b\b\b\b\b\b\b\b\b\b\b 391/391 \n",
            " [==================================>] | Loss: 2.875 | Acc: 28.190% (2819/10000)\b\b\b\b\b\b\b\b\b\b\b\b\b\b\b\b\b\b\b\b\b\b\b\b\b\b\b\b\b\b\b\b\b\b\b\b\b\b\b\b\b\b\b\b\b\b\b\b\b\b\b\b\b\b\b\b\b\b\b\b\b\b\b\b\b 100/100 \n",
            "val_loss:  2.8745971083641053 accuracy:  28.19\n",
            "\n",
            "Epoch: 19\n",
            " [==================================>] | Loss: 2.905 | Acc: 27.160% (13580/50000)\b\b\b\b\b\b\b\b\b\b\b\b\b\b\b\b\b\b\b\b\b\b\b\b\b\b\b\b\b\b\b\b\b\b\b\b\b\b\b\b\b\b\b\b\b\b\b\b\b\b\b\b\b\b\b\b\b\b\b\b\b\b\b\b\b 391/391 \n",
            " [==================================>] | Loss: 2.849 | Acc: 29.100% (2910/10000)\b\b\b\b\b\b\b\b\b\b\b\b\b\b\b\b\b\b\b\b\b\b\b\b\b\b\b\b\b\b\b\b\b\b\b\b\b\b\b\b\b\b\b\b\b\b\b\b\b\b\b\b\b\b\b\b\b\b\b\b\b\b\b\b\b 100/100 \n",
            "val_loss:  2.849334006309509 accuracy:  29.1\n",
            "Saving..\n",
            "\n",
            "Epoch: 20\n",
            " [==================================>] | Loss: 2.879 | Acc: 27.772% (13886/50000)\b\b\b\b\b\b\b\b\b\b\b\b\b\b\b\b\b\b\b\b\b\b\b\b\b\b\b\b\b\b\b\b\b\b\b\b\b\b\b\b\b\b\b\b\b\b\b\b\b\b\b\b\b\b\b\b\b\b\b\b\b\b\b\b\b 391/391 \n",
            " [==================================>] | Loss: 2.839 | Acc: 28.400% (2840/10000)\b\b\b\b\b\b\b\b\b\b\b\b\b\b\b\b\b\b\b\b\b\b\b\b\b\b\b\b\b\b\b\b\b\b\b\b\b\b\b\b\b\b\b\b\b\b\b\b\b\b\b\b\b\b\b\b\b\b\b\b\b\b\b\b\b 100/100 \n",
            "val_loss:  2.8385079383850096 accuracy:  28.4\n",
            "\n",
            "Epoch: 21\n",
            " [==================================>] | Loss: 2.873 | Acc: 27.692% (13846/50000)\b\b\b\b\b\b\b\b\b\b\b\b\b\b\b\b\b\b\b\b\b\b\b\b\b\b\b\b\b\b\b\b\b\b\b\b\b\b\b\b\b\b\b\b\b\b\b\b\b\b\b\b\b\b\b\b\b\b\b\b\b\b\b\b\b 391/391 \n",
            " [==================================>] | Loss: 2.774 | Acc: 30.310% (3031/10000)\b\b\b\b\b\b\b\b\b\b\b\b\b\b\b\b\b\b\b\b\b\b\b\b\b\b\b\b\b\b\b\b\b\b\b\b\b\b\b\b\b\b\b\b\b\b\b\b\b\b\b\b\b\b\b\b\b\b\b\b\b\b\b\b\b 100/100 \n",
            "val_loss:  2.7737904620170593 accuracy:  30.31\n",
            "Saving..\n",
            "\n",
            "Epoch: 22\n",
            " [==================================>] | Loss: 2.847 | Acc: 28.170% (14085/50000)\b\b\b\b\b\b\b\b\b\b\b\b\b\b\b\b\b\b\b\b\b\b\b\b\b\b\b\b\b\b\b\b\b\b\b\b\b\b\b\b\b\b\b\b\b\b\b\b\b\b\b\b\b\b\b\b\b\b\b\b\b\b\b\b\b 391/391 \n",
            " [==================================>] | Loss: 2.831 | Acc: 29.040% (2904/10000)\b\b\b\b\b\b\b\b\b\b\b\b\b\b\b\b\b\b\b\b\b\b\b\b\b\b\b\b\b\b\b\b\b\b\b\b\b\b\b\b\b\b\b\b\b\b\b\b\b\b\b\b\b\b\b\b\b\b\b\b\b\b\b\b\b 100/100 \n",
            "val_loss:  2.831120672225952 accuracy:  29.04\n",
            "\n",
            "Epoch: 23\n",
            " [==================================>] | Loss: 2.856 | Acc: 27.918% (13959/50000)\b\b\b\b\b\b\b\b\b\b\b\b\b\b\b\b\b\b\b\b\b\b\b\b\b\b\b\b\b\b\b\b\b\b\b\b\b\b\b\b\b\b\b\b\b\b\b\b\b\b\b\b\b\b\b\b\b\b\b\b\b\b\b\b\b 391/391 \n",
            " [==================================>] | Loss: 2.784 | Acc: 29.930% (2993/10000)\b\b\b\b\b\b\b\b\b\b\b\b\b\b\b\b\b\b\b\b\b\b\b\b\b\b\b\b\b\b\b\b\b\b\b\b\b\b\b\b\b\b\b\b\b\b\b\b\b\b\b\b\b\b\b\b\b\b\b\b\b\b\b\b\b 100/100 \n",
            "val_loss:  2.7841209387779235 accuracy:  29.93\n",
            "\n",
            "Epoch: 24\n",
            " [==================================>] | Loss: 2.841 | Acc: 28.568% (14284/50000)\b\b\b\b\b\b\b\b\b\b\b\b\b\b\b\b\b\b\b\b\b\b\b\b\b\b\b\b\b\b\b\b\b\b\b\b\b\b\b\b\b\b\b\b\b\b\b\b\b\b\b\b\b\b\b\b\b\b\b\b\b\b\b\b\b 391/391 \n",
            " [==================================>] | Loss: 2.809 | Acc: 29.310% (2931/10000)\b\b\b\b\b\b\b\b\b\b\b\b\b\b\b\b\b\b\b\b\b\b\b\b\b\b\b\b\b\b\b\b\b\b\b\b\b\b\b\b\b\b\b\b\b\b\b\b\b\b\b\b\b\b\b\b\b\b\b\b\b\b\b\b\b 100/100 \n",
            "val_loss:  2.8094905543327333 accuracy:  29.31\n",
            "\n",
            "Epoch: 25\n",
            " [==================================>] | Loss: 2.819 | Acc: 28.928% (14464/50000)\b\b\b\b\b\b\b\b\b\b\b\b\b\b\b\b\b\b\b\b\b\b\b\b\b\b\b\b\b\b\b\b\b\b\b\b\b\b\b\b\b\b\b\b\b\b\b\b\b\b\b\b\b\b\b\b\b\b\b\b\b\b\b\b\b 391/391 \n",
            " [==================================>] | Loss: 2.798 | Acc: 30.010% (3001/10000)\b\b\b\b\b\b\b\b\b\b\b\b\b\b\b\b\b\b\b\b\b\b\b\b\b\b\b\b\b\b\b\b\b\b\b\b\b\b\b\b\b\b\b\b\b\b\b\b\b\b\b\b\b\b\b\b\b\b\b\b\b\b\b\b\b 100/100 \n",
            "val_loss:  2.797737033367157 accuracy:  30.01\n",
            "\n",
            "Epoch: 26\n",
            " [==================================>] | Loss: 2.804 | Acc: 28.984% (14492/50000)\b\b\b\b\b\b\b\b\b\b\b\b\b\b\b\b\b\b\b\b\b\b\b\b\b\b\b\b\b\b\b\b\b\b\b\b\b\b\b\b\b\b\b\b\b\b\b\b\b\b\b\b\b\b\b\b\b\b\b\b\b\b\b\b\b 391/391 \n",
            " [==================================>] | Loss: 2.770 | Acc: 30.900% (3090/10000)\b\b\b\b\b\b\b\b\b\b\b\b\b\b\b\b\b\b\b\b\b\b\b\b\b\b\b\b\b\b\b\b\b\b\b\b\b\b\b\b\b\b\b\b\b\b\b\b\b\b\b\b\b\b\b\b\b\b\b\b\b\b\b\b\b 100/100 \n",
            "val_loss:  2.7699023056030274 accuracy:  30.9\n",
            "Saving..\n",
            "\n",
            "Epoch: 27\n",
            " [==================================>] | Loss: 2.794 | Acc: 29.372% (14686/50000)\b\b\b\b\b\b\b\b\b\b\b\b\b\b\b\b\b\b\b\b\b\b\b\b\b\b\b\b\b\b\b\b\b\b\b\b\b\b\b\b\b\b\b\b\b\b\b\b\b\b\b\b\b\b\b\b\b\b\b\b\b\b\b\b\b 391/391 \n",
            " [==================================>] | Loss: 2.750 | Acc: 30.350% (3035/10000)\b\b\b\b\b\b\b\b\b\b\b\b\b\b\b\b\b\b\b\b\b\b\b\b\b\b\b\b\b\b\b\b\b\b\b\b\b\b\b\b\b\b\b\b\b\b\b\b\b\b\b\b\b\b\b\b\b\b\b\b\b\b\b\b\b 100/100 \n",
            "val_loss:  2.750082404613495 accuracy:  30.35\n",
            "\n",
            "Epoch: 28\n",
            " [==================================>] | Loss: 2.803 | Acc: 29.108% (14554/50000)\b\b\b\b\b\b\b\b\b\b\b\b\b\b\b\b\b\b\b\b\b\b\b\b\b\b\b\b\b\b\b\b\b\b\b\b\b\b\b\b\b\b\b\b\b\b\b\b\b\b\b\b\b\b\b\b\b\b\b\b\b\b\b\b\b 391/391 \n",
            " [==================================>] | Loss: 2.760 | Acc: 30.270% (3027/10000)\b\b\b\b\b\b\b\b\b\b\b\b\b\b\b\b\b\b\b\b\b\b\b\b\b\b\b\b\b\b\b\b\b\b\b\b\b\b\b\b\b\b\b\b\b\b\b\b\b\b\b\b\b\b\b\b\b\b\b\b\b\b\b\b\b 100/100 \n",
            "val_loss:  2.7598621034622193 accuracy:  30.27\n",
            "\n",
            "Epoch: 29\n",
            " [==================================>] | Loss: 2.782 | Acc: 29.522% (14761/50000)\b\b\b\b\b\b\b\b\b\b\b\b\b\b\b\b\b\b\b\b\b\b\b\b\b\b\b\b\b\b\b\b\b\b\b\b\b\b\b\b\b\b\b\b\b\b\b\b\b\b\b\b\b\b\b\b\b\b\b\b\b\b\b\b\b 391/391 \n",
            " [==================================>] | Loss: 2.688 | Acc: 31.890% (3189/10000)\b\b\b\b\b\b\b\b\b\b\b\b\b\b\b\b\b\b\b\b\b\b\b\b\b\b\b\b\b\b\b\b\b\b\b\b\b\b\b\b\b\b\b\b\b\b\b\b\b\b\b\b\b\b\b\b\b\b\b\b\b\b\b\b\b 100/100 \n",
            "val_loss:  2.688068826198578 accuracy:  31.89\n",
            "Saving..\n"
          ],
          "name": "stdout"
        }
      ]
    },
    {
      "metadata": {
        "id": "cRQsw9f5TDrE",
        "colab_type": "text"
      },
      "cell_type": "markdown",
      "source": [
        "#### Plotting the training curves"
      ]
    },
    {
      "metadata": {
        "id": "8WHQH8bkTDrG",
        "colab_type": "code",
        "colab": {}
      },
      "cell_type": "code",
      "source": [
        "training_curves(experiment)"
      ],
      "execution_count": 0,
      "outputs": []
    },
    {
      "metadata": {
        "id": "NYAnzRFcTDrJ",
        "colab_type": "text"
      },
      "cell_type": "markdown",
      "source": [
        "#### Exercise: Compare with momentum rate of 0.99? How does this compare with momentum rate of 0.5?"
      ]
    },
    {
      "metadata": {
        "id": "kZYr32kTT11k",
        "colab_type": "text"
      },
      "cell_type": "markdown",
      "source": [
        "### Please answer the questions below to complete the experiment:\n",
        "\n",
        "\n"
      ]
    },
    {
      "metadata": {
        "id": "YXGW9G5MTDrK",
        "colab_type": "code",
        "colab": {}
      },
      "cell_type": "code",
      "source": [
        "#@title How was the experiment? { run: \"auto\", form-width: \"500px\", display-mode: \"form\" }\n",
        "Complexity = \"Too Simple, I am wasting time\" #@param [\"Too Simple, I am wasting time\", \"Good, But Not Challenging for me\", \"Good and Challenging for me\", \"Was Tough, but I did it\", \"Too Difficult for me\"]\n"
      ],
      "execution_count": 0,
      "outputs": []
    },
    {
      "metadata": {
        "id": "CgIKODtmUNrA",
        "colab_type": "code",
        "colab": {}
      },
      "cell_type": "code",
      "source": [
        "#@title If it was very easy, what more you would have liked to have been added? If it was very difficult, what would you have liked to have been removed? { run: \"auto\", display-mode: \"form\" }\n",
        "Additional = \"test\" #@param {type:\"string\"}"
      ],
      "execution_count": 0,
      "outputs": []
    },
    {
      "metadata": {
        "id": "fy31QpubUSjX",
        "colab_type": "code",
        "colab": {}
      },
      "cell_type": "code",
      "source": [
        "#@title Can you identify the concepts from the lecture which this experiment covered? { run: \"auto\", vertical-output: true, display-mode: \"form\" }\n",
        "Concepts = \"Yes\" #@param [\"Yes\", \"No\"]"
      ],
      "execution_count": 0,
      "outputs": []
    },
    {
      "metadata": {
        "id": "R-8QIZwmUUZ-",
        "colab_type": "code",
        "cellView": "form",
        "colab": {}
      },
      "cell_type": "code",
      "source": [
        "#@title Run this cell to submit your notebook for grading { vertical-output: true }\n",
        "try:\n",
        "  if submission_id:\n",
        "      return_id = submit_notebook()\n",
        "      if return_id : submission_id =return_id\n",
        "  else:\n",
        "      print(\"Please complete the setup first.\")\n",
        "except NameError:\n",
        "  print (\"Please complete the setup first.\")"
      ],
      "execution_count": 0,
      "outputs": []
    },
    {
      "metadata": {
        "id": "xIufuIp0LLgp",
        "colab_type": "code",
        "colab": {}
      },
      "cell_type": "code",
      "source": [
        ""
      ],
      "execution_count": 0,
      "outputs": []
    }
  ]
}